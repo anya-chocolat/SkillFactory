{
 "cells": [
  {
   "cell_type": "markdown",
   "id": "892e3bcc",
   "metadata": {},
   "source": [
    "# Проект 2. Разведывательный анализ данных"
   ]
  },
  {
   "cell_type": "markdown",
   "id": "f368405d",
   "metadata": {
    "toc": true
   },
   "source": [
    "<h1>Оглавление<span class=\"tocSkip\"></span></h1>\n",
    "<div class=\"toc\"><ul class=\"toc-item\"><li><span><a href=\"#Цели-и-задачи-проекта\" data-toc-modified-id=\"Цели-и-задачи-проекта-0\">Цели и задачи проекта<br></a></span></li><li><span><a href=\"#Оригинальный-датасет\" data-toc-modified-id=\"Оригинальный-датасет-1\">Оригинальный датасет</a></span></li><li><span><a href=\"#Предобработка-данных\" data-toc-modified-id=\"Предобработка-данных-2\">Предобработка данных</a></span><ul class=\"toc-item\"><li><span><a href=\"#Столбец-score\" data-toc-modified-id=\"Столбец-score-2.1\">Столбец score</a></span></li><li><span><a href=\"#Столбец-school\" data-toc-modified-id=\"Столбец-school-2.2\">Столбец school</a></span></li><li><span><a href=\"#Столбец-sex\" data-toc-modified-id=\"Столбец-sex-2.3\">Столбец sex</a></span></li><li><span><a href=\"#Столбец-age\" data-toc-modified-id=\"Столбец-age-2.4\">Столбец age</a></span></li><li><span><a href=\"#Столбец-address\" data-toc-modified-id=\"Столбец-address-2.5\">Столбец address</a></span></li><li><span><a href=\"#Столбец-famsize\" data-toc-modified-id=\"Столбец-famsize-2.6\">Столбец famsize</a></span></li><li><span><a href=\"#Столбец-Pstatus\" data-toc-modified-id=\"Столбец-Pstatus-2.7\">Столбец Pstatus</a></span></li><li><span><a href=\"#Столбец-Medu\" data-toc-modified-id=\"Столбец-Medu-2.8\">Столбец Medu</a></span></li><li><span><a href=\"#Столбец-Fedu\" data-toc-modified-id=\"Столбец-Fedu-2.9\">Столбец Fedu</a></span></li><li><span><a href=\"#Столбец-Mjob\" data-toc-modified-id=\"Столбец-Mjob-2.10\">Столбец Mjob</a></span></li><li><span><a href=\"#Столбец-Fjob\" data-toc-modified-id=\"Столбец-Fjob-2.11\">Столбец Fjob</a></span></li><li><span><a href=\"#Столбец-reason\" data-toc-modified-id=\"Столбец-reason-2.12\">Столбец reason</a></span></li><li><span><a href=\"#Столбец-guardian\" data-toc-modified-id=\"Столбец-guardian-2.13\">Столбец guardian</a></span></li><li><span><a href=\"#Столбец-traveltime\" data-toc-modified-id=\"Столбец-traveltime-2.14\">Столбец traveltime</a></span></li><li><span><a href=\"#Столбец-studytime\" data-toc-modified-id=\"Столбец-studytime-2.15\">Столбец studytime</a></span></li><li><span><a href=\"#Столбец-studytime_granular\" data-toc-modified-id=\"Столбец-studytime_granular-2.16\">Столбец studytime_granular</a></span></li><li><span><a href=\"#Столбец-failures\" data-toc-modified-id=\"Столбец-failures-2.17\">Столбец failures</a></span></li><li><span><a href=\"#Столбец-schoolsup\" data-toc-modified-id=\"Столбец-schoolsup-2.18\">Столбец schoolsup</a></span></li><li><span><a href=\"#Столбец-famsup\" data-toc-modified-id=\"Столбец-famsup-2.19\">Столбец famsup</a></span></li><li><span><a href=\"#Столбец-paid\" data-toc-modified-id=\"Столбец-paid-2.20\">Столбец paid</a></span></li><li><span><a href=\"#Столбец-activities\" data-toc-modified-id=\"Столбец-activities-2.21\">Столбец activities</a></span></li><li><span><a href=\"#Столбец-nursery\" data-toc-modified-id=\"Столбец-nursery-2.22\">Столбец nursery</a></span></li><li><span><a href=\"#Столбец-higher\" data-toc-modified-id=\"Столбец-higher-2.23\">Столбец higher</a></span></li><li><span><a href=\"#Столбец-internet\" data-toc-modified-id=\"Столбец-internet-2.24\">Столбец internet</a></span></li><li><span><a href=\"#Столбец-romantic\" data-toc-modified-id=\"Столбец-romantic-2.25\">Столбец romantic</a></span></li><li><span><a href=\"#Столбец-famrel\" data-toc-modified-id=\"Столбец-famrel-2.26\">Столбец famrel</a></span></li><li><span><a href=\"#Столбец-freetime\" data-toc-modified-id=\"Столбец-freetime-2.27\">Столбец freetime</a></span></li><li><span><a href=\"#Столбец-goout\" data-toc-modified-id=\"Столбец-goout-2.28\">Столбец goout</a></span></li><li><span><a href=\"#Столбец-health\" data-toc-modified-id=\"Столбец-health-2.29\">Столбец health</a></span></li><li><span><a href=\"#Столбец-absences\" data-toc-modified-id=\"Столбец-absences-2.30\">Столбец absences</a></span></li></ul></li><li><span><a href=\"#Обработанный-датасет\" data-toc-modified-id=\"Обработанный-датасет-3\">Обработанный датасет</a></span></li><li><span><a href=\"#Корреляционный-анализ\" data-toc-modified-id=\"Корреляционный-анализ-4\">Корреляционный анализ</a></span></li><li><span><a href=\"#Анализ-номинативных-переменных\" data-toc-modified-id=\"Анализ-номинативных-переменных-5\">Анализ номинативных переменных</a></span></li><li><span><a href=\"#Вывод\" data-toc-modified-id=\"Вывод-6\">Вывод</a></span></li></ul></div>"
   ]
  },
  {
   "cell_type": "markdown",
   "id": "f8bec5cd",
   "metadata": {},
   "source": [
    "## Цели и задачи проекта<br>\n",
    "Суть проекта — отследить влияние условий жизни учащихся в возрасте от 15 до 22 лет на их успеваемость по математике, чтобы на ранней стадии выявлять студентов, находящихся в группе риска.<br><br>\n",
    "Задачи проекта:\n",
    "1. Провести первичную обработку данных с использованием функций для обработки столбцов.\n",
    "2. Проанализировать распределение признака для числовых переменных, устранить выбросы.\n",
    "3. Оценить количество уникальных значений для номинативных переменных.\n",
    "4. По необходимости преобразовать данные.\n",
    "5. Провести корреляционный анализ количественных переменных и отобрать некоррелирующие переменные.\n",
    "6. Проанализировать номинативные переменные и устранить те, которые не влияют на предсказываемую величину (в нашем случае — на переменную score).\n",
    "7. Сформулировать выводы относительно качества данных и переменных, которые будут использоваться при построении модели."
   ]
  },
  {
   "cell_type": "code",
   "execution_count": 1481,
   "id": "9db40b5e",
   "metadata": {},
   "outputs": [],
   "source": [
    "import warnings\n",
    "import pandas as pd\n",
    "import numpy as np\n",
    "import seaborn as sns\n",
    "import timeit\n",
    "import time\n",
    "from itertools import combinations\n",
    "from scipy.stats import ttest_ind\n",
    "from sklearn.decomposition import PCA\n",
    "from scipy.stats import f_oneway\n",
    "import matplotlib\n",
    "import matplotlib.pyplot as plt\n",
    "%matplotlib inline\n",
    "warnings.simplefilter('ignore')\n",
    "sns.set()\n",
    "\n",
    "pd.set_option('display.max_rows', 50)  # показывать больше строк\n",
    "pd.set_option('display.max_columns', 50)  # показывать больше колонок"
   ]
  },
  {
   "cell_type": "code",
   "execution_count": 1383,
   "id": "938eaa3a",
   "metadata": {},
   "outputs": [],
   "source": [
    "df = pd.read_csv('stud_math.csv')"
   ]
  },
  {
   "cell_type": "markdown",
   "id": "42bd479c",
   "metadata": {},
   "source": [
    "## Оригинальный датасет"
   ]
  },
  {
   "cell_type": "code",
   "execution_count": 1384,
   "id": "c7c9defa",
   "metadata": {
    "scrolled": false
   },
   "outputs": [
    {
     "data": {
      "text/html": [
       "<div>\n",
       "<style scoped>\n",
       "    .dataframe tbody tr th:only-of-type {\n",
       "        vertical-align: middle;\n",
       "    }\n",
       "\n",
       "    .dataframe tbody tr th {\n",
       "        vertical-align: top;\n",
       "    }\n",
       "\n",
       "    .dataframe thead th {\n",
       "        text-align: right;\n",
       "    }\n",
       "</style>\n",
       "<table border=\"1\" class=\"dataframe\">\n",
       "  <thead>\n",
       "    <tr style=\"text-align: right;\">\n",
       "      <th></th>\n",
       "      <th>school</th>\n",
       "      <th>sex</th>\n",
       "      <th>age</th>\n",
       "      <th>address</th>\n",
       "      <th>famsize</th>\n",
       "      <th>Pstatus</th>\n",
       "      <th>Medu</th>\n",
       "      <th>Fedu</th>\n",
       "      <th>Mjob</th>\n",
       "      <th>Fjob</th>\n",
       "      <th>reason</th>\n",
       "      <th>guardian</th>\n",
       "      <th>traveltime</th>\n",
       "      <th>studytime</th>\n",
       "      <th>failures</th>\n",
       "      <th>schoolsup</th>\n",
       "      <th>famsup</th>\n",
       "      <th>paid</th>\n",
       "      <th>activities</th>\n",
       "      <th>nursery</th>\n",
       "      <th>studytime, granular</th>\n",
       "      <th>higher</th>\n",
       "      <th>internet</th>\n",
       "      <th>romantic</th>\n",
       "      <th>famrel</th>\n",
       "      <th>freetime</th>\n",
       "      <th>goout</th>\n",
       "      <th>health</th>\n",
       "      <th>absences</th>\n",
       "      <th>score</th>\n",
       "    </tr>\n",
       "  </thead>\n",
       "  <tbody>\n",
       "    <tr>\n",
       "      <th>0</th>\n",
       "      <td>GP</td>\n",
       "      <td>F</td>\n",
       "      <td>18</td>\n",
       "      <td>U</td>\n",
       "      <td>NaN</td>\n",
       "      <td>A</td>\n",
       "      <td>4.0</td>\n",
       "      <td>4.0</td>\n",
       "      <td>at_home</td>\n",
       "      <td>teacher</td>\n",
       "      <td>course</td>\n",
       "      <td>mother</td>\n",
       "      <td>2.0</td>\n",
       "      <td>2.0</td>\n",
       "      <td>0.0</td>\n",
       "      <td>yes</td>\n",
       "      <td>no</td>\n",
       "      <td>no</td>\n",
       "      <td>no</td>\n",
       "      <td>yes</td>\n",
       "      <td>-6.0</td>\n",
       "      <td>yes</td>\n",
       "      <td>NaN</td>\n",
       "      <td>no</td>\n",
       "      <td>4.0</td>\n",
       "      <td>3.0</td>\n",
       "      <td>4.0</td>\n",
       "      <td>3.0</td>\n",
       "      <td>6.0</td>\n",
       "      <td>30.0</td>\n",
       "    </tr>\n",
       "    <tr>\n",
       "      <th>1</th>\n",
       "      <td>GP</td>\n",
       "      <td>F</td>\n",
       "      <td>17</td>\n",
       "      <td>U</td>\n",
       "      <td>GT3</td>\n",
       "      <td>NaN</td>\n",
       "      <td>1.0</td>\n",
       "      <td>1.0</td>\n",
       "      <td>at_home</td>\n",
       "      <td>other</td>\n",
       "      <td>course</td>\n",
       "      <td>father</td>\n",
       "      <td>1.0</td>\n",
       "      <td>2.0</td>\n",
       "      <td>0.0</td>\n",
       "      <td>no</td>\n",
       "      <td>yes</td>\n",
       "      <td>no</td>\n",
       "      <td>no</td>\n",
       "      <td>no</td>\n",
       "      <td>-6.0</td>\n",
       "      <td>yes</td>\n",
       "      <td>yes</td>\n",
       "      <td>no</td>\n",
       "      <td>5.0</td>\n",
       "      <td>3.0</td>\n",
       "      <td>3.0</td>\n",
       "      <td>3.0</td>\n",
       "      <td>4.0</td>\n",
       "      <td>30.0</td>\n",
       "    </tr>\n",
       "    <tr>\n",
       "      <th>2</th>\n",
       "      <td>GP</td>\n",
       "      <td>F</td>\n",
       "      <td>15</td>\n",
       "      <td>U</td>\n",
       "      <td>LE3</td>\n",
       "      <td>T</td>\n",
       "      <td>1.0</td>\n",
       "      <td>1.0</td>\n",
       "      <td>at_home</td>\n",
       "      <td>other</td>\n",
       "      <td>other</td>\n",
       "      <td>mother</td>\n",
       "      <td>1.0</td>\n",
       "      <td>2.0</td>\n",
       "      <td>3.0</td>\n",
       "      <td>yes</td>\n",
       "      <td>no</td>\n",
       "      <td>NaN</td>\n",
       "      <td>no</td>\n",
       "      <td>yes</td>\n",
       "      <td>-6.0</td>\n",
       "      <td>yes</td>\n",
       "      <td>yes</td>\n",
       "      <td>NaN</td>\n",
       "      <td>4.0</td>\n",
       "      <td>3.0</td>\n",
       "      <td>2.0</td>\n",
       "      <td>3.0</td>\n",
       "      <td>10.0</td>\n",
       "      <td>50.0</td>\n",
       "    </tr>\n",
       "    <tr>\n",
       "      <th>3</th>\n",
       "      <td>GP</td>\n",
       "      <td>F</td>\n",
       "      <td>15</td>\n",
       "      <td>U</td>\n",
       "      <td>GT3</td>\n",
       "      <td>T</td>\n",
       "      <td>4.0</td>\n",
       "      <td>2.0</td>\n",
       "      <td>health</td>\n",
       "      <td>NaN</td>\n",
       "      <td>home</td>\n",
       "      <td>mother</td>\n",
       "      <td>1.0</td>\n",
       "      <td>3.0</td>\n",
       "      <td>0.0</td>\n",
       "      <td>no</td>\n",
       "      <td>yes</td>\n",
       "      <td>yes</td>\n",
       "      <td>yes</td>\n",
       "      <td>yes</td>\n",
       "      <td>-9.0</td>\n",
       "      <td>yes</td>\n",
       "      <td>yes</td>\n",
       "      <td>yes</td>\n",
       "      <td>3.0</td>\n",
       "      <td>2.0</td>\n",
       "      <td>2.0</td>\n",
       "      <td>5.0</td>\n",
       "      <td>2.0</td>\n",
       "      <td>75.0</td>\n",
       "    </tr>\n",
       "    <tr>\n",
       "      <th>4</th>\n",
       "      <td>GP</td>\n",
       "      <td>F</td>\n",
       "      <td>16</td>\n",
       "      <td>U</td>\n",
       "      <td>GT3</td>\n",
       "      <td>T</td>\n",
       "      <td>3.0</td>\n",
       "      <td>3.0</td>\n",
       "      <td>other</td>\n",
       "      <td>other</td>\n",
       "      <td>home</td>\n",
       "      <td>father</td>\n",
       "      <td>1.0</td>\n",
       "      <td>2.0</td>\n",
       "      <td>0.0</td>\n",
       "      <td>no</td>\n",
       "      <td>yes</td>\n",
       "      <td>yes</td>\n",
       "      <td>no</td>\n",
       "      <td>yes</td>\n",
       "      <td>-6.0</td>\n",
       "      <td>yes</td>\n",
       "      <td>no</td>\n",
       "      <td>no</td>\n",
       "      <td>4.0</td>\n",
       "      <td>3.0</td>\n",
       "      <td>2.0</td>\n",
       "      <td>5.0</td>\n",
       "      <td>4.0</td>\n",
       "      <td>50.0</td>\n",
       "    </tr>\n",
       "    <tr>\n",
       "      <th>...</th>\n",
       "      <td>...</td>\n",
       "      <td>...</td>\n",
       "      <td>...</td>\n",
       "      <td>...</td>\n",
       "      <td>...</td>\n",
       "      <td>...</td>\n",
       "      <td>...</td>\n",
       "      <td>...</td>\n",
       "      <td>...</td>\n",
       "      <td>...</td>\n",
       "      <td>...</td>\n",
       "      <td>...</td>\n",
       "      <td>...</td>\n",
       "      <td>...</td>\n",
       "      <td>...</td>\n",
       "      <td>...</td>\n",
       "      <td>...</td>\n",
       "      <td>...</td>\n",
       "      <td>...</td>\n",
       "      <td>...</td>\n",
       "      <td>...</td>\n",
       "      <td>...</td>\n",
       "      <td>...</td>\n",
       "      <td>...</td>\n",
       "      <td>...</td>\n",
       "      <td>...</td>\n",
       "      <td>...</td>\n",
       "      <td>...</td>\n",
       "      <td>...</td>\n",
       "      <td>...</td>\n",
       "    </tr>\n",
       "    <tr>\n",
       "      <th>390</th>\n",
       "      <td>MS</td>\n",
       "      <td>M</td>\n",
       "      <td>20</td>\n",
       "      <td>U</td>\n",
       "      <td>LE3</td>\n",
       "      <td>A</td>\n",
       "      <td>2.0</td>\n",
       "      <td>2.0</td>\n",
       "      <td>services</td>\n",
       "      <td>services</td>\n",
       "      <td>course</td>\n",
       "      <td>NaN</td>\n",
       "      <td>1.0</td>\n",
       "      <td>2.0</td>\n",
       "      <td>2.0</td>\n",
       "      <td>no</td>\n",
       "      <td>yes</td>\n",
       "      <td>yes</td>\n",
       "      <td>no</td>\n",
       "      <td>yes</td>\n",
       "      <td>-6.0</td>\n",
       "      <td>yes</td>\n",
       "      <td>no</td>\n",
       "      <td>no</td>\n",
       "      <td>5.0</td>\n",
       "      <td>5.0</td>\n",
       "      <td>4.0</td>\n",
       "      <td>4.0</td>\n",
       "      <td>212.0</td>\n",
       "      <td>45.0</td>\n",
       "    </tr>\n",
       "    <tr>\n",
       "      <th>391</th>\n",
       "      <td>MS</td>\n",
       "      <td>M</td>\n",
       "      <td>17</td>\n",
       "      <td>U</td>\n",
       "      <td>LE3</td>\n",
       "      <td>T</td>\n",
       "      <td>3.0</td>\n",
       "      <td>1.0</td>\n",
       "      <td>services</td>\n",
       "      <td>services</td>\n",
       "      <td>course</td>\n",
       "      <td>mother</td>\n",
       "      <td>2.0</td>\n",
       "      <td>1.0</td>\n",
       "      <td>0.0</td>\n",
       "      <td>no</td>\n",
       "      <td>no</td>\n",
       "      <td>no</td>\n",
       "      <td>no</td>\n",
       "      <td>no</td>\n",
       "      <td>-3.0</td>\n",
       "      <td>yes</td>\n",
       "      <td>yes</td>\n",
       "      <td>no</td>\n",
       "      <td>2.0</td>\n",
       "      <td>4.0</td>\n",
       "      <td>5.0</td>\n",
       "      <td>2.0</td>\n",
       "      <td>3.0</td>\n",
       "      <td>80.0</td>\n",
       "    </tr>\n",
       "    <tr>\n",
       "      <th>392</th>\n",
       "      <td>MS</td>\n",
       "      <td>M</td>\n",
       "      <td>21</td>\n",
       "      <td>R</td>\n",
       "      <td>GT3</td>\n",
       "      <td>T</td>\n",
       "      <td>1.0</td>\n",
       "      <td>1.0</td>\n",
       "      <td>other</td>\n",
       "      <td>other</td>\n",
       "      <td>course</td>\n",
       "      <td>NaN</td>\n",
       "      <td>1.0</td>\n",
       "      <td>1.0</td>\n",
       "      <td>3.0</td>\n",
       "      <td>NaN</td>\n",
       "      <td>no</td>\n",
       "      <td>no</td>\n",
       "      <td>no</td>\n",
       "      <td>no</td>\n",
       "      <td>-3.0</td>\n",
       "      <td>NaN</td>\n",
       "      <td>no</td>\n",
       "      <td>no</td>\n",
       "      <td>5.0</td>\n",
       "      <td>5.0</td>\n",
       "      <td>3.0</td>\n",
       "      <td>3.0</td>\n",
       "      <td>3.0</td>\n",
       "      <td>35.0</td>\n",
       "    </tr>\n",
       "    <tr>\n",
       "      <th>393</th>\n",
       "      <td>MS</td>\n",
       "      <td>M</td>\n",
       "      <td>18</td>\n",
       "      <td>R</td>\n",
       "      <td>LE3</td>\n",
       "      <td>T</td>\n",
       "      <td>3.0</td>\n",
       "      <td>2.0</td>\n",
       "      <td>services</td>\n",
       "      <td>other</td>\n",
       "      <td>course</td>\n",
       "      <td>mother</td>\n",
       "      <td>3.0</td>\n",
       "      <td>1.0</td>\n",
       "      <td>0.0</td>\n",
       "      <td>no</td>\n",
       "      <td>no</td>\n",
       "      <td>no</td>\n",
       "      <td>NaN</td>\n",
       "      <td>no</td>\n",
       "      <td>-3.0</td>\n",
       "      <td>yes</td>\n",
       "      <td>yes</td>\n",
       "      <td>no</td>\n",
       "      <td>4.0</td>\n",
       "      <td>4.0</td>\n",
       "      <td>1.0</td>\n",
       "      <td>5.0</td>\n",
       "      <td>0.0</td>\n",
       "      <td>50.0</td>\n",
       "    </tr>\n",
       "    <tr>\n",
       "      <th>394</th>\n",
       "      <td>MS</td>\n",
       "      <td>M</td>\n",
       "      <td>19</td>\n",
       "      <td>U</td>\n",
       "      <td>LE3</td>\n",
       "      <td>T</td>\n",
       "      <td>1.0</td>\n",
       "      <td>1.0</td>\n",
       "      <td>other</td>\n",
       "      <td>at_home</td>\n",
       "      <td>NaN</td>\n",
       "      <td>father</td>\n",
       "      <td>1.0</td>\n",
       "      <td>1.0</td>\n",
       "      <td>0.0</td>\n",
       "      <td>NaN</td>\n",
       "      <td>no</td>\n",
       "      <td>no</td>\n",
       "      <td>no</td>\n",
       "      <td>yes</td>\n",
       "      <td>-3.0</td>\n",
       "      <td>yes</td>\n",
       "      <td>yes</td>\n",
       "      <td>no</td>\n",
       "      <td>3.0</td>\n",
       "      <td>2.0</td>\n",
       "      <td>3.0</td>\n",
       "      <td>5.0</td>\n",
       "      <td>5.0</td>\n",
       "      <td>45.0</td>\n",
       "    </tr>\n",
       "  </tbody>\n",
       "</table>\n",
       "<p>395 rows × 30 columns</p>\n",
       "</div>"
      ],
      "text/plain": [
       "    school sex  age address famsize Pstatus  Medu  Fedu      Mjob      Fjob  \\\n",
       "0       GP   F   18       U     NaN       A   4.0   4.0   at_home   teacher   \n",
       "1       GP   F   17       U     GT3     NaN   1.0   1.0   at_home     other   \n",
       "2       GP   F   15       U     LE3       T   1.0   1.0   at_home     other   \n",
       "3       GP   F   15       U     GT3       T   4.0   2.0    health       NaN   \n",
       "4       GP   F   16       U     GT3       T   3.0   3.0     other     other   \n",
       "..     ...  ..  ...     ...     ...     ...   ...   ...       ...       ...   \n",
       "390     MS   M   20       U     LE3       A   2.0   2.0  services  services   \n",
       "391     MS   M   17       U     LE3       T   3.0   1.0  services  services   \n",
       "392     MS   M   21       R     GT3       T   1.0   1.0     other     other   \n",
       "393     MS   M   18       R     LE3       T   3.0   2.0  services     other   \n",
       "394     MS   M   19       U     LE3       T   1.0   1.0     other   at_home   \n",
       "\n",
       "     reason guardian  traveltime  studytime  failures schoolsup famsup paid  \\\n",
       "0    course   mother         2.0        2.0       0.0       yes     no   no   \n",
       "1    course   father         1.0        2.0       0.0        no    yes   no   \n",
       "2     other   mother         1.0        2.0       3.0       yes     no  NaN   \n",
       "3      home   mother         1.0        3.0       0.0        no    yes  yes   \n",
       "4      home   father         1.0        2.0       0.0        no    yes  yes   \n",
       "..      ...      ...         ...        ...       ...       ...    ...  ...   \n",
       "390  course      NaN         1.0        2.0       2.0        no    yes  yes   \n",
       "391  course   mother         2.0        1.0       0.0        no     no   no   \n",
       "392  course      NaN         1.0        1.0       3.0       NaN     no   no   \n",
       "393  course   mother         3.0        1.0       0.0        no     no   no   \n",
       "394     NaN   father         1.0        1.0       0.0       NaN     no   no   \n",
       "\n",
       "    activities nursery  studytime, granular higher internet romantic  famrel  \\\n",
       "0           no     yes                 -6.0    yes      NaN       no     4.0   \n",
       "1           no      no                 -6.0    yes      yes       no     5.0   \n",
       "2           no     yes                 -6.0    yes      yes      NaN     4.0   \n",
       "3          yes     yes                 -9.0    yes      yes      yes     3.0   \n",
       "4           no     yes                 -6.0    yes       no       no     4.0   \n",
       "..         ...     ...                  ...    ...      ...      ...     ...   \n",
       "390         no     yes                 -6.0    yes       no       no     5.0   \n",
       "391         no      no                 -3.0    yes      yes       no     2.0   \n",
       "392         no      no                 -3.0    NaN       no       no     5.0   \n",
       "393        NaN      no                 -3.0    yes      yes       no     4.0   \n",
       "394         no     yes                 -3.0    yes      yes       no     3.0   \n",
       "\n",
       "     freetime  goout  health  absences  score  \n",
       "0         3.0    4.0     3.0       6.0   30.0  \n",
       "1         3.0    3.0     3.0       4.0   30.0  \n",
       "2         3.0    2.0     3.0      10.0   50.0  \n",
       "3         2.0    2.0     5.0       2.0   75.0  \n",
       "4         3.0    2.0     5.0       4.0   50.0  \n",
       "..        ...    ...     ...       ...    ...  \n",
       "390       5.0    4.0     4.0     212.0   45.0  \n",
       "391       4.0    5.0     2.0       3.0   80.0  \n",
       "392       5.0    3.0     3.0       3.0   35.0  \n",
       "393       4.0    1.0     5.0       0.0   50.0  \n",
       "394       2.0    3.0     5.0       5.0   45.0  \n",
       "\n",
       "[395 rows x 30 columns]"
      ]
     },
     "execution_count": 1384,
     "metadata": {},
     "output_type": "execute_result"
    }
   ],
   "source": [
    "df"
   ]
  },
  {
   "cell_type": "code",
   "execution_count": 1385,
   "id": "34903a15",
   "metadata": {
    "scrolled": false
   },
   "outputs": [
    {
     "data": {
      "text/html": [
       "<div>\n",
       "<style scoped>\n",
       "    .dataframe tbody tr th:only-of-type {\n",
       "        vertical-align: middle;\n",
       "    }\n",
       "\n",
       "    .dataframe tbody tr th {\n",
       "        vertical-align: top;\n",
       "    }\n",
       "\n",
       "    .dataframe thead th {\n",
       "        text-align: right;\n",
       "    }\n",
       "</style>\n",
       "<table border=\"1\" class=\"dataframe\">\n",
       "  <thead>\n",
       "    <tr style=\"text-align: right;\">\n",
       "      <th></th>\n",
       "      <th>school</th>\n",
       "      <th>sex</th>\n",
       "      <th>age</th>\n",
       "      <th>address</th>\n",
       "      <th>famsize</th>\n",
       "      <th>Pstatus</th>\n",
       "      <th>Medu</th>\n",
       "      <th>Fedu</th>\n",
       "      <th>Mjob</th>\n",
       "      <th>Fjob</th>\n",
       "      <th>reason</th>\n",
       "      <th>guardian</th>\n",
       "      <th>traveltime</th>\n",
       "      <th>studytime</th>\n",
       "      <th>failures</th>\n",
       "      <th>schoolsup</th>\n",
       "      <th>famsup</th>\n",
       "      <th>paid</th>\n",
       "      <th>activities</th>\n",
       "      <th>nursery</th>\n",
       "      <th>studytime, granular</th>\n",
       "      <th>higher</th>\n",
       "      <th>internet</th>\n",
       "      <th>romantic</th>\n",
       "      <th>famrel</th>\n",
       "      <th>freetime</th>\n",
       "      <th>goout</th>\n",
       "      <th>health</th>\n",
       "      <th>absences</th>\n",
       "      <th>score</th>\n",
       "    </tr>\n",
       "  </thead>\n",
       "  <tbody>\n",
       "    <tr>\n",
       "      <th>198</th>\n",
       "      <td>GP</td>\n",
       "      <td>F</td>\n",
       "      <td>17</td>\n",
       "      <td>U</td>\n",
       "      <td>GT3</td>\n",
       "      <td>NaN</td>\n",
       "      <td>4.0</td>\n",
       "      <td>4.0</td>\n",
       "      <td>services</td>\n",
       "      <td>teacher</td>\n",
       "      <td>home</td>\n",
       "      <td>mother</td>\n",
       "      <td>2.0</td>\n",
       "      <td>1.0</td>\n",
       "      <td>1.0</td>\n",
       "      <td>no</td>\n",
       "      <td>yes</td>\n",
       "      <td>no</td>\n",
       "      <td>no</td>\n",
       "      <td>yes</td>\n",
       "      <td>-3.0</td>\n",
       "      <td>yes</td>\n",
       "      <td>NaN</td>\n",
       "      <td>no</td>\n",
       "      <td>4.0</td>\n",
       "      <td>2.0</td>\n",
       "      <td>4.0</td>\n",
       "      <td>2.0</td>\n",
       "      <td>24.0</td>\n",
       "      <td>90.0</td>\n",
       "    </tr>\n",
       "    <tr>\n",
       "      <th>370</th>\n",
       "      <td>MS</td>\n",
       "      <td>F</td>\n",
       "      <td>19</td>\n",
       "      <td>U</td>\n",
       "      <td>LE3</td>\n",
       "      <td>T</td>\n",
       "      <td>3.0</td>\n",
       "      <td>2.0</td>\n",
       "      <td>services</td>\n",
       "      <td>services</td>\n",
       "      <td>home</td>\n",
       "      <td>other</td>\n",
       "      <td>2.0</td>\n",
       "      <td>2.0</td>\n",
       "      <td>2.0</td>\n",
       "      <td>no</td>\n",
       "      <td>no</td>\n",
       "      <td>no</td>\n",
       "      <td>yes</td>\n",
       "      <td>yes</td>\n",
       "      <td>-6.0</td>\n",
       "      <td>yes</td>\n",
       "      <td>no</td>\n",
       "      <td>yes</td>\n",
       "      <td>3.0</td>\n",
       "      <td>2.0</td>\n",
       "      <td>2.0</td>\n",
       "      <td>3.0</td>\n",
       "      <td>4.0</td>\n",
       "      <td>45.0</td>\n",
       "    </tr>\n",
       "    <tr>\n",
       "      <th>252</th>\n",
       "      <td>GP</td>\n",
       "      <td>M</td>\n",
       "      <td>18</td>\n",
       "      <td>U</td>\n",
       "      <td>NaN</td>\n",
       "      <td>NaN</td>\n",
       "      <td>2.0</td>\n",
       "      <td>1.0</td>\n",
       "      <td>services</td>\n",
       "      <td>services</td>\n",
       "      <td>other</td>\n",
       "      <td>mother</td>\n",
       "      <td>1.0</td>\n",
       "      <td>1.0</td>\n",
       "      <td>1.0</td>\n",
       "      <td>no</td>\n",
       "      <td>no</td>\n",
       "      <td>no</td>\n",
       "      <td>no</td>\n",
       "      <td>no</td>\n",
       "      <td>-3.0</td>\n",
       "      <td>no</td>\n",
       "      <td>yes</td>\n",
       "      <td>no</td>\n",
       "      <td>3.0</td>\n",
       "      <td>2.0</td>\n",
       "      <td>5.0</td>\n",
       "      <td>5.0</td>\n",
       "      <td>4.0</td>\n",
       "      <td>40.0</td>\n",
       "    </tr>\n",
       "    <tr>\n",
       "      <th>179</th>\n",
       "      <td>GP</td>\n",
       "      <td>M</td>\n",
       "      <td>17</td>\n",
       "      <td>U</td>\n",
       "      <td>GT3</td>\n",
       "      <td>T</td>\n",
       "      <td>4.0</td>\n",
       "      <td>3.0</td>\n",
       "      <td>other</td>\n",
       "      <td>other</td>\n",
       "      <td>course</td>\n",
       "      <td>mother</td>\n",
       "      <td>1.0</td>\n",
       "      <td>2.0</td>\n",
       "      <td>0.0</td>\n",
       "      <td>no</td>\n",
       "      <td>yes</td>\n",
       "      <td>no</td>\n",
       "      <td>yes</td>\n",
       "      <td>yes</td>\n",
       "      <td>-6.0</td>\n",
       "      <td>yes</td>\n",
       "      <td>yes</td>\n",
       "      <td>yes</td>\n",
       "      <td>5.0</td>\n",
       "      <td>2.0</td>\n",
       "      <td>3.0</td>\n",
       "      <td>2.0</td>\n",
       "      <td>4.0</td>\n",
       "      <td>55.0</td>\n",
       "    </tr>\n",
       "    <tr>\n",
       "      <th>212</th>\n",
       "      <td>GP</td>\n",
       "      <td>F</td>\n",
       "      <td>16</td>\n",
       "      <td>U</td>\n",
       "      <td>GT3</td>\n",
       "      <td>A</td>\n",
       "      <td>2.0</td>\n",
       "      <td>2.0</td>\n",
       "      <td>other</td>\n",
       "      <td>other</td>\n",
       "      <td>reputation</td>\n",
       "      <td>mother</td>\n",
       "      <td>1.0</td>\n",
       "      <td>2.0</td>\n",
       "      <td>0.0</td>\n",
       "      <td>yes</td>\n",
       "      <td>yes</td>\n",
       "      <td>yes</td>\n",
       "      <td>NaN</td>\n",
       "      <td>NaN</td>\n",
       "      <td>-6.0</td>\n",
       "      <td>yes</td>\n",
       "      <td>yes</td>\n",
       "      <td>no</td>\n",
       "      <td>3.0</td>\n",
       "      <td>3.0</td>\n",
       "      <td>4.0</td>\n",
       "      <td>4.0</td>\n",
       "      <td>0.0</td>\n",
       "      <td>70.0</td>\n",
       "    </tr>\n",
       "    <tr>\n",
       "      <th>149</th>\n",
       "      <td>GP</td>\n",
       "      <td>M</td>\n",
       "      <td>15</td>\n",
       "      <td>U</td>\n",
       "      <td>LE3</td>\n",
       "      <td>NaN</td>\n",
       "      <td>2.0</td>\n",
       "      <td>1.0</td>\n",
       "      <td>services</td>\n",
       "      <td>other</td>\n",
       "      <td>course</td>\n",
       "      <td>mother</td>\n",
       "      <td>4.0</td>\n",
       "      <td>1.0</td>\n",
       "      <td>3.0</td>\n",
       "      <td>no</td>\n",
       "      <td>NaN</td>\n",
       "      <td>no</td>\n",
       "      <td>no</td>\n",
       "      <td>yes</td>\n",
       "      <td>-3.0</td>\n",
       "      <td>NaN</td>\n",
       "      <td>yes</td>\n",
       "      <td>no</td>\n",
       "      <td>4.0</td>\n",
       "      <td>5.0</td>\n",
       "      <td>5.0</td>\n",
       "      <td>5.0</td>\n",
       "      <td>0.0</td>\n",
       "      <td>50.0</td>\n",
       "    </tr>\n",
       "    <tr>\n",
       "      <th>317</th>\n",
       "      <td>GP</td>\n",
       "      <td>F</td>\n",
       "      <td>18</td>\n",
       "      <td>U</td>\n",
       "      <td>GT3</td>\n",
       "      <td>T</td>\n",
       "      <td>4.0</td>\n",
       "      <td>3.0</td>\n",
       "      <td>other</td>\n",
       "      <td>other</td>\n",
       "      <td>course</td>\n",
       "      <td>mother</td>\n",
       "      <td>1.0</td>\n",
       "      <td>3.0</td>\n",
       "      <td>0.0</td>\n",
       "      <td>no</td>\n",
       "      <td>yes</td>\n",
       "      <td>yes</td>\n",
       "      <td>yes</td>\n",
       "      <td>yes</td>\n",
       "      <td>-9.0</td>\n",
       "      <td>yes</td>\n",
       "      <td>yes</td>\n",
       "      <td>yes</td>\n",
       "      <td>NaN</td>\n",
       "      <td>3.0</td>\n",
       "      <td>4.0</td>\n",
       "      <td>5.0</td>\n",
       "      <td>9.0</td>\n",
       "      <td>45.0</td>\n",
       "    </tr>\n",
       "    <tr>\n",
       "      <th>230</th>\n",
       "      <td>GP</td>\n",
       "      <td>F</td>\n",
       "      <td>17</td>\n",
       "      <td>U</td>\n",
       "      <td>LE3</td>\n",
       "      <td>T</td>\n",
       "      <td>4.0</td>\n",
       "      <td>3.0</td>\n",
       "      <td>health</td>\n",
       "      <td>other</td>\n",
       "      <td>reputation</td>\n",
       "      <td>father</td>\n",
       "      <td>1.0</td>\n",
       "      <td>2.0</td>\n",
       "      <td>0.0</td>\n",
       "      <td>no</td>\n",
       "      <td>no</td>\n",
       "      <td>no</td>\n",
       "      <td>yes</td>\n",
       "      <td>yes</td>\n",
       "      <td>-6.0</td>\n",
       "      <td>yes</td>\n",
       "      <td>yes</td>\n",
       "      <td>yes</td>\n",
       "      <td>3.0</td>\n",
       "      <td>2.0</td>\n",
       "      <td>3.0</td>\n",
       "      <td>3.0</td>\n",
       "      <td>14.0</td>\n",
       "      <td>70.0</td>\n",
       "    </tr>\n",
       "    <tr>\n",
       "      <th>72</th>\n",
       "      <td>GP</td>\n",
       "      <td>F</td>\n",
       "      <td>15</td>\n",
       "      <td>R</td>\n",
       "      <td>GT3</td>\n",
       "      <td>T</td>\n",
       "      <td>1.0</td>\n",
       "      <td>1.0</td>\n",
       "      <td>other</td>\n",
       "      <td>other</td>\n",
       "      <td>reputation</td>\n",
       "      <td>mother</td>\n",
       "      <td>1.0</td>\n",
       "      <td>2.0</td>\n",
       "      <td>2.0</td>\n",
       "      <td>yes</td>\n",
       "      <td>yes</td>\n",
       "      <td>no</td>\n",
       "      <td>no</td>\n",
       "      <td>no</td>\n",
       "      <td>-6.0</td>\n",
       "      <td>yes</td>\n",
       "      <td>yes</td>\n",
       "      <td>yes</td>\n",
       "      <td>NaN</td>\n",
       "      <td>3.0</td>\n",
       "      <td>4.0</td>\n",
       "      <td>5.0</td>\n",
       "      <td>2.0</td>\n",
       "      <td>25.0</td>\n",
       "    </tr>\n",
       "    <tr>\n",
       "      <th>381</th>\n",
       "      <td>MS</td>\n",
       "      <td>M</td>\n",
       "      <td>18</td>\n",
       "      <td>R</td>\n",
       "      <td>GT3</td>\n",
       "      <td>T</td>\n",
       "      <td>2.0</td>\n",
       "      <td>1.0</td>\n",
       "      <td>other</td>\n",
       "      <td>other</td>\n",
       "      <td>other</td>\n",
       "      <td>mother</td>\n",
       "      <td>2.0</td>\n",
       "      <td>1.0</td>\n",
       "      <td>0.0</td>\n",
       "      <td>no</td>\n",
       "      <td>no</td>\n",
       "      <td>no</td>\n",
       "      <td>yes</td>\n",
       "      <td>no</td>\n",
       "      <td>-3.0</td>\n",
       "      <td>yes</td>\n",
       "      <td>yes</td>\n",
       "      <td>yes</td>\n",
       "      <td>4.0</td>\n",
       "      <td>4.0</td>\n",
       "      <td>3.0</td>\n",
       "      <td>5.0</td>\n",
       "      <td>5.0</td>\n",
       "      <td>35.0</td>\n",
       "    </tr>\n",
       "    <tr>\n",
       "      <th>74</th>\n",
       "      <td>GP</td>\n",
       "      <td>F</td>\n",
       "      <td>16</td>\n",
       "      <td>U</td>\n",
       "      <td>GT3</td>\n",
       "      <td>T</td>\n",
       "      <td>3.0</td>\n",
       "      <td>3.0</td>\n",
       "      <td>other</td>\n",
       "      <td>services</td>\n",
       "      <td>home</td>\n",
       "      <td>mother</td>\n",
       "      <td>1.0</td>\n",
       "      <td>2.0</td>\n",
       "      <td>0.0</td>\n",
       "      <td>yes</td>\n",
       "      <td>yes</td>\n",
       "      <td>yes</td>\n",
       "      <td>yes</td>\n",
       "      <td>yes</td>\n",
       "      <td>-6.0</td>\n",
       "      <td>yes</td>\n",
       "      <td>yes</td>\n",
       "      <td>no</td>\n",
       "      <td>4.0</td>\n",
       "      <td>NaN</td>\n",
       "      <td>3.0</td>\n",
       "      <td>5.0</td>\n",
       "      <td>54.0</td>\n",
       "      <td>55.0</td>\n",
       "    </tr>\n",
       "    <tr>\n",
       "      <th>94</th>\n",
       "      <td>GP</td>\n",
       "      <td>M</td>\n",
       "      <td>15</td>\n",
       "      <td>U</td>\n",
       "      <td>LE3</td>\n",
       "      <td>T</td>\n",
       "      <td>2.0</td>\n",
       "      <td>2.0</td>\n",
       "      <td>services</td>\n",
       "      <td>health</td>\n",
       "      <td>reputation</td>\n",
       "      <td>mother</td>\n",
       "      <td>1.0</td>\n",
       "      <td>4.0</td>\n",
       "      <td>0.0</td>\n",
       "      <td>no</td>\n",
       "      <td>yes</td>\n",
       "      <td>no</td>\n",
       "      <td>yes</td>\n",
       "      <td>yes</td>\n",
       "      <td>-12.0</td>\n",
       "      <td>yes</td>\n",
       "      <td>yes</td>\n",
       "      <td>no</td>\n",
       "      <td>NaN</td>\n",
       "      <td>3.0</td>\n",
       "      <td>4.0</td>\n",
       "      <td>4.0</td>\n",
       "      <td>6.0</td>\n",
       "      <td>70.0</td>\n",
       "    </tr>\n",
       "    <tr>\n",
       "      <th>119</th>\n",
       "      <td>GP</td>\n",
       "      <td>M</td>\n",
       "      <td>15</td>\n",
       "      <td>U</td>\n",
       "      <td>GT3</td>\n",
       "      <td>T</td>\n",
       "      <td>3.0</td>\n",
       "      <td>4.0</td>\n",
       "      <td>other</td>\n",
       "      <td>other</td>\n",
       "      <td>reputation</td>\n",
       "      <td>father</td>\n",
       "      <td>1.0</td>\n",
       "      <td>1.0</td>\n",
       "      <td>0.0</td>\n",
       "      <td>no</td>\n",
       "      <td>no</td>\n",
       "      <td>no</td>\n",
       "      <td>no</td>\n",
       "      <td>yes</td>\n",
       "      <td>-3.0</td>\n",
       "      <td>yes</td>\n",
       "      <td>yes</td>\n",
       "      <td>no</td>\n",
       "      <td>3.0</td>\n",
       "      <td>4.0</td>\n",
       "      <td>3.0</td>\n",
       "      <td>4.0</td>\n",
       "      <td>6.0</td>\n",
       "      <td>65.0</td>\n",
       "    </tr>\n",
       "    <tr>\n",
       "      <th>352</th>\n",
       "      <td>MS</td>\n",
       "      <td>M</td>\n",
       "      <td>18</td>\n",
       "      <td>U</td>\n",
       "      <td>LE3</td>\n",
       "      <td>T</td>\n",
       "      <td>1.0</td>\n",
       "      <td>3.0</td>\n",
       "      <td>at_home</td>\n",
       "      <td>services</td>\n",
       "      <td>course</td>\n",
       "      <td>mother</td>\n",
       "      <td>1.0</td>\n",
       "      <td>1.0</td>\n",
       "      <td>1.0</td>\n",
       "      <td>no</td>\n",
       "      <td>no</td>\n",
       "      <td>no</td>\n",
       "      <td>no</td>\n",
       "      <td>yes</td>\n",
       "      <td>-3.0</td>\n",
       "      <td>no</td>\n",
       "      <td>yes</td>\n",
       "      <td>yes</td>\n",
       "      <td>4.0</td>\n",
       "      <td>3.0</td>\n",
       "      <td>3.0</td>\n",
       "      <td>3.0</td>\n",
       "      <td>NaN</td>\n",
       "      <td>40.0</td>\n",
       "    </tr>\n",
       "    <tr>\n",
       "      <th>372</th>\n",
       "      <td>MS</td>\n",
       "      <td>F</td>\n",
       "      <td>17</td>\n",
       "      <td>NaN</td>\n",
       "      <td>GT3</td>\n",
       "      <td>T</td>\n",
       "      <td>2.0</td>\n",
       "      <td>2.0</td>\n",
       "      <td>other</td>\n",
       "      <td>at_home</td>\n",
       "      <td>home</td>\n",
       "      <td>mother</td>\n",
       "      <td>NaN</td>\n",
       "      <td>3.0</td>\n",
       "      <td>0.0</td>\n",
       "      <td>no</td>\n",
       "      <td>no</td>\n",
       "      <td>no</td>\n",
       "      <td>yes</td>\n",
       "      <td>yes</td>\n",
       "      <td>-9.0</td>\n",
       "      <td>yes</td>\n",
       "      <td>no</td>\n",
       "      <td>NaN</td>\n",
       "      <td>3.0</td>\n",
       "      <td>4.0</td>\n",
       "      <td>3.0</td>\n",
       "      <td>3.0</td>\n",
       "      <td>8.0</td>\n",
       "      <td>55.0</td>\n",
       "    </tr>\n",
       "    <tr>\n",
       "      <th>28</th>\n",
       "      <td>GP</td>\n",
       "      <td>M</td>\n",
       "      <td>16</td>\n",
       "      <td>U</td>\n",
       "      <td>LE3</td>\n",
       "      <td>NaN</td>\n",
       "      <td>3.0</td>\n",
       "      <td>4.0</td>\n",
       "      <td>services</td>\n",
       "      <td>other</td>\n",
       "      <td>home</td>\n",
       "      <td>mother</td>\n",
       "      <td>1.0</td>\n",
       "      <td>2.0</td>\n",
       "      <td>0.0</td>\n",
       "      <td>yes</td>\n",
       "      <td>NaN</td>\n",
       "      <td>no</td>\n",
       "      <td>yes</td>\n",
       "      <td>yes</td>\n",
       "      <td>-6.0</td>\n",
       "      <td>yes</td>\n",
       "      <td>yes</td>\n",
       "      <td>no</td>\n",
       "      <td>5.0</td>\n",
       "      <td>3.0</td>\n",
       "      <td>3.0</td>\n",
       "      <td>5.0</td>\n",
       "      <td>4.0</td>\n",
       "      <td>55.0</td>\n",
       "    </tr>\n",
       "    <tr>\n",
       "      <th>70</th>\n",
       "      <td>GP</td>\n",
       "      <td>M</td>\n",
       "      <td>16</td>\n",
       "      <td>U</td>\n",
       "      <td>GT3</td>\n",
       "      <td>T</td>\n",
       "      <td>3.0</td>\n",
       "      <td>1.0</td>\n",
       "      <td>other</td>\n",
       "      <td>other</td>\n",
       "      <td>reputation</td>\n",
       "      <td>father</td>\n",
       "      <td>NaN</td>\n",
       "      <td>4.0</td>\n",
       "      <td>0.0</td>\n",
       "      <td>no</td>\n",
       "      <td>yes</td>\n",
       "      <td>yes</td>\n",
       "      <td>no</td>\n",
       "      <td>yes</td>\n",
       "      <td>-12.0</td>\n",
       "      <td>yes</td>\n",
       "      <td>yes</td>\n",
       "      <td>no</td>\n",
       "      <td>4.0</td>\n",
       "      <td>3.0</td>\n",
       "      <td>2.0</td>\n",
       "      <td>5.0</td>\n",
       "      <td>0.0</td>\n",
       "      <td>75.0</td>\n",
       "    </tr>\n",
       "    <tr>\n",
       "      <th>205</th>\n",
       "      <td>GP</td>\n",
       "      <td>F</td>\n",
       "      <td>17</td>\n",
       "      <td>U</td>\n",
       "      <td>GT3</td>\n",
       "      <td>T</td>\n",
       "      <td>3.0</td>\n",
       "      <td>4.0</td>\n",
       "      <td>at_home</td>\n",
       "      <td>services</td>\n",
       "      <td>home</td>\n",
       "      <td>mother</td>\n",
       "      <td>1.0</td>\n",
       "      <td>3.0</td>\n",
       "      <td>1.0</td>\n",
       "      <td>no</td>\n",
       "      <td>yes</td>\n",
       "      <td>yes</td>\n",
       "      <td>no</td>\n",
       "      <td>yes</td>\n",
       "      <td>-9.0</td>\n",
       "      <td>yes</td>\n",
       "      <td>yes</td>\n",
       "      <td>yes</td>\n",
       "      <td>4.0</td>\n",
       "      <td>4.0</td>\n",
       "      <td>3.0</td>\n",
       "      <td>5.0</td>\n",
       "      <td>28.0</td>\n",
       "      <td>45.0</td>\n",
       "    </tr>\n",
       "    <tr>\n",
       "      <th>187</th>\n",
       "      <td>GP</td>\n",
       "      <td>M</td>\n",
       "      <td>16</td>\n",
       "      <td>U</td>\n",
       "      <td>LE3</td>\n",
       "      <td>T</td>\n",
       "      <td>2.0</td>\n",
       "      <td>1.0</td>\n",
       "      <td>other</td>\n",
       "      <td>other</td>\n",
       "      <td>course</td>\n",
       "      <td>mother</td>\n",
       "      <td>1.0</td>\n",
       "      <td>2.0</td>\n",
       "      <td>0.0</td>\n",
       "      <td>no</td>\n",
       "      <td>no</td>\n",
       "      <td>yes</td>\n",
       "      <td>yes</td>\n",
       "      <td>yes</td>\n",
       "      <td>-6.0</td>\n",
       "      <td>yes</td>\n",
       "      <td>yes</td>\n",
       "      <td>yes</td>\n",
       "      <td>4.0</td>\n",
       "      <td>2.0</td>\n",
       "      <td>3.0</td>\n",
       "      <td>5.0</td>\n",
       "      <td>0.0</td>\n",
       "      <td>75.0</td>\n",
       "    </tr>\n",
       "    <tr>\n",
       "      <th>164</th>\n",
       "      <td>GP</td>\n",
       "      <td>M</td>\n",
       "      <td>17</td>\n",
       "      <td>R</td>\n",
       "      <td>LE3</td>\n",
       "      <td>T</td>\n",
       "      <td>1.0</td>\n",
       "      <td>1.0</td>\n",
       "      <td>other</td>\n",
       "      <td>services</td>\n",
       "      <td>course</td>\n",
       "      <td>NaN</td>\n",
       "      <td>4.0</td>\n",
       "      <td>2.0</td>\n",
       "      <td>3.0</td>\n",
       "      <td>no</td>\n",
       "      <td>no</td>\n",
       "      <td>NaN</td>\n",
       "      <td>yes</td>\n",
       "      <td>yes</td>\n",
       "      <td>-6.0</td>\n",
       "      <td>no</td>\n",
       "      <td>no</td>\n",
       "      <td>yes</td>\n",
       "      <td>5.0</td>\n",
       "      <td>3.0</td>\n",
       "      <td>5.0</td>\n",
       "      <td>NaN</td>\n",
       "      <td>0.0</td>\n",
       "      <td>35.0</td>\n",
       "    </tr>\n",
       "  </tbody>\n",
       "</table>\n",
       "</div>"
      ],
      "text/plain": [
       "    school sex  age address famsize Pstatus  Medu  Fedu      Mjob      Fjob  \\\n",
       "198     GP   F   17       U     GT3     NaN   4.0   4.0  services   teacher   \n",
       "370     MS   F   19       U     LE3       T   3.0   2.0  services  services   \n",
       "252     GP   M   18       U     NaN     NaN   2.0   1.0  services  services   \n",
       "179     GP   M   17       U     GT3       T   4.0   3.0     other     other   \n",
       "212     GP   F   16       U     GT3       A   2.0   2.0     other     other   \n",
       "149     GP   M   15       U     LE3     NaN   2.0   1.0  services     other   \n",
       "317     GP   F   18       U     GT3       T   4.0   3.0     other     other   \n",
       "230     GP   F   17       U     LE3       T   4.0   3.0    health     other   \n",
       "72      GP   F   15       R     GT3       T   1.0   1.0     other     other   \n",
       "381     MS   M   18       R     GT3       T   2.0   1.0     other     other   \n",
       "74      GP   F   16       U     GT3       T   3.0   3.0     other  services   \n",
       "94      GP   M   15       U     LE3       T   2.0   2.0  services    health   \n",
       "119     GP   M   15       U     GT3       T   3.0   4.0     other     other   \n",
       "352     MS   M   18       U     LE3       T   1.0   3.0   at_home  services   \n",
       "372     MS   F   17     NaN     GT3       T   2.0   2.0     other   at_home   \n",
       "28      GP   M   16       U     LE3     NaN   3.0   4.0  services     other   \n",
       "70      GP   M   16       U     GT3       T   3.0   1.0     other     other   \n",
       "205     GP   F   17       U     GT3       T   3.0   4.0   at_home  services   \n",
       "187     GP   M   16       U     LE3       T   2.0   1.0     other     other   \n",
       "164     GP   M   17       R     LE3       T   1.0   1.0     other  services   \n",
       "\n",
       "         reason guardian  traveltime  studytime  failures schoolsup famsup  \\\n",
       "198        home   mother         2.0        1.0       1.0        no    yes   \n",
       "370        home    other         2.0        2.0       2.0        no     no   \n",
       "252       other   mother         1.0        1.0       1.0        no     no   \n",
       "179      course   mother         1.0        2.0       0.0        no    yes   \n",
       "212  reputation   mother         1.0        2.0       0.0       yes    yes   \n",
       "149      course   mother         4.0        1.0       3.0        no    NaN   \n",
       "317      course   mother         1.0        3.0       0.0        no    yes   \n",
       "230  reputation   father         1.0        2.0       0.0        no     no   \n",
       "72   reputation   mother         1.0        2.0       2.0       yes    yes   \n",
       "381       other   mother         2.0        1.0       0.0        no     no   \n",
       "74         home   mother         1.0        2.0       0.0       yes    yes   \n",
       "94   reputation   mother         1.0        4.0       0.0        no    yes   \n",
       "119  reputation   father         1.0        1.0       0.0        no     no   \n",
       "352      course   mother         1.0        1.0       1.0        no     no   \n",
       "372        home   mother         NaN        3.0       0.0        no     no   \n",
       "28         home   mother         1.0        2.0       0.0       yes    NaN   \n",
       "70   reputation   father         NaN        4.0       0.0        no    yes   \n",
       "205        home   mother         1.0        3.0       1.0        no    yes   \n",
       "187      course   mother         1.0        2.0       0.0        no     no   \n",
       "164      course      NaN         4.0        2.0       3.0        no     no   \n",
       "\n",
       "    paid activities nursery  studytime, granular higher internet romantic  \\\n",
       "198   no         no     yes                 -3.0    yes      NaN       no   \n",
       "370   no        yes     yes                 -6.0    yes       no      yes   \n",
       "252   no         no      no                 -3.0     no      yes       no   \n",
       "179   no        yes     yes                 -6.0    yes      yes      yes   \n",
       "212  yes        NaN     NaN                 -6.0    yes      yes       no   \n",
       "149   no         no     yes                 -3.0    NaN      yes       no   \n",
       "317  yes        yes     yes                 -9.0    yes      yes      yes   \n",
       "230   no        yes     yes                 -6.0    yes      yes      yes   \n",
       "72    no         no      no                 -6.0    yes      yes      yes   \n",
       "381   no        yes      no                 -3.0    yes      yes      yes   \n",
       "74   yes        yes     yes                 -6.0    yes      yes       no   \n",
       "94    no        yes     yes                -12.0    yes      yes       no   \n",
       "119   no         no     yes                 -3.0    yes      yes       no   \n",
       "352   no         no     yes                 -3.0     no      yes      yes   \n",
       "372   no        yes     yes                 -9.0    yes       no      NaN   \n",
       "28    no        yes     yes                 -6.0    yes      yes       no   \n",
       "70   yes         no     yes                -12.0    yes      yes       no   \n",
       "205  yes         no     yes                 -9.0    yes      yes      yes   \n",
       "187  yes        yes     yes                 -6.0    yes      yes      yes   \n",
       "164  NaN        yes     yes                 -6.0     no       no      yes   \n",
       "\n",
       "     famrel  freetime  goout  health  absences  score  \n",
       "198     4.0       2.0    4.0     2.0      24.0   90.0  \n",
       "370     3.0       2.0    2.0     3.0       4.0   45.0  \n",
       "252     3.0       2.0    5.0     5.0       4.0   40.0  \n",
       "179     5.0       2.0    3.0     2.0       4.0   55.0  \n",
       "212     3.0       3.0    4.0     4.0       0.0   70.0  \n",
       "149     4.0       5.0    5.0     5.0       0.0   50.0  \n",
       "317     NaN       3.0    4.0     5.0       9.0   45.0  \n",
       "230     3.0       2.0    3.0     3.0      14.0   70.0  \n",
       "72      NaN       3.0    4.0     5.0       2.0   25.0  \n",
       "381     4.0       4.0    3.0     5.0       5.0   35.0  \n",
       "74      4.0       NaN    3.0     5.0      54.0   55.0  \n",
       "94      NaN       3.0    4.0     4.0       6.0   70.0  \n",
       "119     3.0       4.0    3.0     4.0       6.0   65.0  \n",
       "352     4.0       3.0    3.0     3.0       NaN   40.0  \n",
       "372     3.0       4.0    3.0     3.0       8.0   55.0  \n",
       "28      5.0       3.0    3.0     5.0       4.0   55.0  \n",
       "70      4.0       3.0    2.0     5.0       0.0   75.0  \n",
       "205     4.0       4.0    3.0     5.0      28.0   45.0  \n",
       "187     4.0       2.0    3.0     5.0       0.0   75.0  \n",
       "164     5.0       3.0    5.0     NaN       0.0   35.0  "
      ]
     },
     "execution_count": 1385,
     "metadata": {},
     "output_type": "execute_result"
    }
   ],
   "source": [
    "df.sample(20)"
   ]
  },
  {
   "cell_type": "code",
   "execution_count": 1386,
   "id": "1a46a38a",
   "metadata": {},
   "outputs": [
    {
     "data": {
      "text/plain": [
       "(395, 30)"
      ]
     },
     "execution_count": 1386,
     "metadata": {},
     "output_type": "execute_result"
    }
   ],
   "source": [
    "df.shape"
   ]
  },
  {
   "cell_type": "code",
   "execution_count": 1387,
   "id": "69712761",
   "metadata": {
    "scrolled": false
   },
   "outputs": [
    {
     "name": "stdout",
     "output_type": "stream",
     "text": [
      "<class 'pandas.core.frame.DataFrame'>\n",
      "RangeIndex: 395 entries, 0 to 394\n",
      "Data columns (total 30 columns):\n",
      " #   Column               Non-Null Count  Dtype  \n",
      "---  ------               --------------  -----  \n",
      " 0   school               395 non-null    object \n",
      " 1   sex                  395 non-null    object \n",
      " 2   age                  395 non-null    int64  \n",
      " 3   address              378 non-null    object \n",
      " 4   famsize              368 non-null    object \n",
      " 5   Pstatus              350 non-null    object \n",
      " 6   Medu                 392 non-null    float64\n",
      " 7   Fedu                 371 non-null    float64\n",
      " 8   Mjob                 376 non-null    object \n",
      " 9   Fjob                 359 non-null    object \n",
      " 10  reason               378 non-null    object \n",
      " 11  guardian             364 non-null    object \n",
      " 12  traveltime           367 non-null    float64\n",
      " 13  studytime            388 non-null    float64\n",
      " 14  failures             373 non-null    float64\n",
      " 15  schoolsup            386 non-null    object \n",
      " 16  famsup               356 non-null    object \n",
      " 17  paid                 355 non-null    object \n",
      " 18  activities           381 non-null    object \n",
      " 19  nursery              379 non-null    object \n",
      " 20  studytime, granular  388 non-null    float64\n",
      " 21  higher               375 non-null    object \n",
      " 22  internet             361 non-null    object \n",
      " 23  romantic             364 non-null    object \n",
      " 24  famrel               368 non-null    float64\n",
      " 25  freetime             384 non-null    float64\n",
      " 26  goout                387 non-null    float64\n",
      " 27  health               380 non-null    float64\n",
      " 28  absences             383 non-null    float64\n",
      " 29  score                389 non-null    float64\n",
      "dtypes: float64(12), int64(1), object(17)\n",
      "memory usage: 92.7+ KB\n"
     ]
    }
   ],
   "source": [
    "df.info()"
   ]
  },
  {
   "cell_type": "markdown",
   "id": "f6119629",
   "metadata": {},
   "source": [
    "<span style='color:darkblue;font-size:4.2mm;background:#DAFCFF'>Имеем 395 строк и 30 колонок: 13 с числовыми значениями и 17 с номинативными. <br> По количеству ненулевых значений видно, что во многих колонках есть пропущенные значения.</span>"
   ]
  },
  {
   "cell_type": "markdown",
   "id": "5b490b6f",
   "metadata": {},
   "source": [
    "## Предобработка данных"
   ]
  },
  {
   "cell_type": "code",
   "execution_count": 1388,
   "id": "14e2052e",
   "metadata": {},
   "outputs": [
    {
     "data": {
      "text/plain": [
       "Index(['school', 'sex', 'age', 'address', 'famsize', 'Pstatus', 'Medu', 'Fedu',\n",
       "       'Mjob', 'Fjob', 'reason', 'guardian', 'traveltime', 'studytime',\n",
       "       'failures', 'schoolsup', 'famsup', 'paid', 'activities', 'nursery',\n",
       "       'studytime, granular', 'higher', 'internet', 'romantic', 'famrel',\n",
       "       'freetime', 'goout', 'health', 'absences', 'score'],\n",
       "      dtype='object')"
      ]
     },
     "execution_count": 1388,
     "metadata": {},
     "output_type": "execute_result"
    }
   ],
   "source": [
    "df.columns"
   ]
  },
  {
   "cell_type": "code",
   "execution_count": 1389,
   "id": "2335feda",
   "metadata": {},
   "outputs": [
    {
     "data": {
      "text/plain": [
       "Index(['school', 'sex', 'age', 'address', 'famsize', 'Pstatus', 'Medu', 'Fedu',\n",
       "       'Mjob', 'Fjob', 'reason', 'guardian', 'traveltime', 'studytime',\n",
       "       'failures', 'schoolsup', 'famsup', 'paid', 'activities', 'nursery',\n",
       "       'studytime_granular', 'higher', 'internet', 'romantic', 'famrel',\n",
       "       'freetime', 'goout', 'health', 'absences', 'score'],\n",
       "      dtype='object')"
      ]
     },
     "execution_count": 1389,
     "metadata": {},
     "output_type": "execute_result"
    }
   ],
   "source": [
    "# Название 'studytime, granular' содержит пробел и запятую, переименуем его:\n",
    "\n",
    "df.columns = df.columns.str.replace(', ', '_')\n",
    "df.columns"
   ]
  },
  {
   "cell_type": "code",
   "execution_count": 1488,
   "id": "40c4214c",
   "metadata": {},
   "outputs": [],
   "source": [
    "# Подготовим функции для обработки данных:\n",
    "\n",
    "\n",
    "# Функция для показа общей информации по столбцу:\n",
    "def show_info(col):\n",
    "    print(df[col].describe())\n",
    "    print(f'\\nПропущенных значений: {df[col].isna().sum()}\\n')\n",
    "    if df[col].dtypes in [int, float]:\n",
    "        print(f'Уникальные значения:\\n{sorted(df[col].unique())}\\n')\n",
    "        print(df[col].value_counts())\n",
    "        fig, ax = plt.subplots(1, 2, figsize=(12, 8))\n",
    "        df[col].plot(ax=ax[0], kind='box', vert=False)\n",
    "        df[col].plot(ax=ax[1], kind='hist')\n",
    "    elif df[col].dtypes == object:\n",
    "        print(f'Уникальные значения:\\n{(df[col].unique())}\\n')\n",
    "        print(df[col].value_counts())\n",
    "    else:\n",
    "        print('unknown dtypes')\n",
    "\n",
    "\n",
    "# Функция для сравнения межквартильного интервала с другими границами:\n",
    "def IQR_vs_logic(col, lim):\n",
    "    perc25 = df[col].quantile(0.25)\n",
    "    perc75 = df[col].quantile(0.75)\n",
    "    IQR = perc75 - perc25\n",
    "\n",
    "    print(f'25-й перцентиль: {perc25}, 75-й перцентиль: {perc75}, IQR: {IQR},\\\n",
    " Границы выбросов: [{perc25 - 1.5*IQR}, {perc75 + 1.5*IQR}].')\n",
    "\n",
    "    df[col].loc[df[col].between(perc25 - 1.5 * IQR,\n",
    "                                perc75 + 1.5 * IQR)].hist(alpha=0.8,\n",
    "                                                          bins=16,\n",
    "                                                          range=(0, 100),\n",
    "                                                          color='green',\n",
    "                                                          label='IQR')\n",
    "\n",
    "    df[col].loc[df[col] <= lim].hist(alpha=0.6,\n",
    "                                     bins=16,\n",
    "                                     range=(0, 100),\n",
    "                                     color='blue',\n",
    "                                     label='Здравый смысл')\n",
    "\n",
    "    plt.legend()\n",
    "\n",
    "\n",
    "# Функция для вывода боксплотов влияния номинативных столбцов на score:\n",
    "def show_boxplot(col):\n",
    "    if df[col].dtypes == object:\n",
    "        fig, ax = plt.subplots(figsize=(14, 4))\n",
    "        sns.boxplot(x=col, y='score', data=df, ax=ax, palette='Set2')\n",
    "        ax.set_title(f'{col.capitalize()} boxplot')\n",
    "        ax.set(xlabel=None, ylabel='Score')\n",
    "        \n",
    "\n",
    "# Функция для проверки нулевой гипотезы (тест Стьюдента):\n",
    "def get_stat(col):\n",
    "    combs = list(combinations(df[col], 2))\n",
    "    for comb in combs:\n",
    "        if ttest_ind(df.loc[df[col] == comb[0], 'score'],\n",
    "                     df.loc[df[col] == comb[1], 'score']).pvalue <= 0.05 / len(combs):\n",
    "            print(f'Найдены статистически значимые различия для {col}')\n",
    "            break\n",
    "            \n",
    "# Функция для проверки нулевой гипотезы (ANOVA):\n",
    "def get_anova(col):\n",
    "    group_lists=df.groupby(col)['score'].apply(list)\n",
    "    anova = f_oneway(*group_lists)\n",
    "    if anova[1] <= 0.05:\n",
    "        print(f'Найдены статистически значимые различия для {col}')"
   ]
  },
  {
   "cell_type": "code",
   "execution_count": 1391,
   "id": "d200b92a",
   "metadata": {
    "scrolled": true
   },
   "outputs": [
    {
     "name": "stdout",
     "output_type": "stream",
     "text": [
      "False    395\n",
      "Name: school, dtype: int64\n",
      "False    395\n",
      "Name: sex, dtype: int64\n",
      "False    395\n",
      "Name: age, dtype: int64\n",
      "False    395\n",
      "Name: address, dtype: int64\n",
      "False    395\n",
      "Name: famsize, dtype: int64\n",
      "False    395\n",
      "Name: Pstatus, dtype: int64\n",
      "False    395\n",
      "Name: Medu, dtype: int64\n",
      "False    395\n",
      "Name: Fedu, dtype: int64\n",
      "False    395\n",
      "Name: Mjob, dtype: int64\n",
      "False    395\n",
      "Name: Fjob, dtype: int64\n",
      "False    395\n",
      "Name: reason, dtype: int64\n",
      "False    395\n",
      "Name: guardian, dtype: int64\n",
      "False    395\n",
      "Name: traveltime, dtype: int64\n",
      "False    395\n",
      "Name: studytime, dtype: int64\n",
      "False    395\n",
      "Name: failures, dtype: int64\n",
      "False    395\n",
      "Name: schoolsup, dtype: int64\n",
      "False    395\n",
      "Name: famsup, dtype: int64\n",
      "False    395\n",
      "Name: paid, dtype: int64\n",
      "False    395\n",
      "Name: activities, dtype: int64\n",
      "False    395\n",
      "Name: nursery, dtype: int64\n",
      "False    395\n",
      "Name: studytime_granular, dtype: int64\n",
      "False    395\n",
      "Name: higher, dtype: int64\n",
      "False    395\n",
      "Name: internet, dtype: int64\n",
      "False    395\n",
      "Name: romantic, dtype: int64\n",
      "False    395\n",
      "Name: famrel, dtype: int64\n",
      "False    395\n",
      "Name: freetime, dtype: int64\n",
      "False    395\n",
      "Name: goout, dtype: int64\n",
      "False    395\n",
      "Name: health, dtype: int64\n",
      "False    395\n",
      "Name: absences, dtype: int64\n",
      "False    395\n",
      "Name: score, dtype: int64\n"
     ]
    }
   ],
   "source": [
    "# На первый взгляд все пустые значения в таблице выглядят как NaN\n",
    "# Проверим, есть ли в датасете пустые строки или строки со словом 'NaN':\n",
    "\n",
    "df2 = pd.DataFrame()\n",
    "for col in df.columns:\n",
    "    df2[col] = (df[col].astype(str) == '') | (df[col].astype(str) == 'NaN')\n",
    "    print(df2[col].value_counts())\n",
    "\n",
    "# Таких строк строк не найдено\n",
    "# Можем предположить, что все пропущенные значения действительно являются \n",
    "# данными типа NaN\n",
    "# В дальнейшем мы сможем заменить их на подходящие данные для каждого столбца \n",
    "# или удалить"
   ]
  },
  {
   "cell_type": "markdown",
   "id": "36e50150",
   "metadata": {},
   "source": [
    "<span style='color:darkblue;font-size:4.2mm;background:#DAFCFF'>Теперь рассмотрим каждый столбец по отдельности.</span>"
   ]
  },
  {
   "cell_type": "markdown",
   "id": "0d91bf6c",
   "metadata": {},
   "source": [
    "### Столбец score"
   ]
  },
  {
   "cell_type": "code",
   "execution_count": 1392,
   "id": "10fcd7f2",
   "metadata": {},
   "outputs": [
    {
     "name": "stdout",
     "output_type": "stream",
     "text": [
      "count    389.000000\n",
      "mean      52.262211\n",
      "std       22.919022\n",
      "min        0.000000\n",
      "25%       40.000000\n",
      "50%       55.000000\n",
      "75%       70.000000\n",
      "max      100.000000\n",
      "Name: score, dtype: float64\n",
      "\n",
      "Пропущенных значений: 6\n",
      "\n",
      "Уникальные значения:\n",
      "[0.0, 20.0, 25.0, 30.0, 35.0, 40.0, 45.0, 50.0, 55.0, 60.0, 65.0, 70.0, 75.0, 80.0, 85.0, 90.0, 95.0, 100.0, nan]\n",
      "\n",
      "50.0     54\n",
      "55.0     46\n",
      "0.0      37\n",
      "75.0     33\n",
      "65.0     31\n",
      "60.0     31\n",
      "40.0     31\n",
      "45.0     27\n",
      "70.0     27\n",
      "80.0     16\n",
      "30.0     15\n",
      "90.0     12\n",
      "35.0      9\n",
      "25.0      7\n",
      "85.0      6\n",
      "95.0      5\n",
      "20.0      1\n",
      "100.0     1\n",
      "Name: score, dtype: int64\n"
     ]
    },
    {
     "data": {
      "image/png": "[encoded data removed]",
      "text/plain": [
       "<Figure size 864x288 with 2 Axes>"
      ]
     },
     "metadata": {},
     "output_type": "display_data"
    }
   ],
   "source": [
    "# Начнём со столбца score, так как это наша целевая переменная\n",
    "\n",
    "show_info('score')\n",
    "\n",
    "# Очевидно, что оценки выставлены по 100-балльной шкале\n",
    "# Распределение без аномалий, выбросов нет\n",
    "# Большинство оценок в середине, но есть и достаточное количество учеников,\n",
    "# которые получили 0 баллов. Видимо, это несданные работы"
   ]
  },
  {
   "cell_type": "code",
   "execution_count": 1393,
   "id": "28bbb8dc",
   "metadata": {},
   "outputs": [],
   "source": [
    "# Удалим все строки с пропущенными значениями, так как целевая метка \n",
    "# должна содержать только истинные значения:\n",
    "\n",
    "df = df[df.score.notnull()]"
   ]
  },
  {
   "cell_type": "markdown",
   "id": "f3b2ea90",
   "metadata": {},
   "source": [
    "### Столбец school"
   ]
  },
  {
   "cell_type": "code",
   "execution_count": 1394,
   "id": "3e8bef47",
   "metadata": {},
   "outputs": [
    {
     "name": "stdout",
     "output_type": "stream",
     "text": [
      "count     389\n",
      "unique      2\n",
      "top        GP\n",
      "freq      344\n",
      "Name: school, dtype: object\n",
      "\n",
      "Пропущенных значений: 0\n",
      "\n",
      "Уникальные значения:\n",
      "['GP' 'MS']\n",
      "\n",
      "GP    344\n",
      "MS     45\n",
      "Name: school, dtype: int64\n"
     ]
    }
   ],
   "source": [
    "# Первый столбец - аббревиатура школы\n",
    "\n",
    "show_info('school')\n",
    "\n",
    "# Пропущенных значений нет, вариантов школ всего 2: 'GP' и 'MS'\n",
    "# Учеников из школы 'GP' более чем в 7 раз больше"
   ]
  },
  {
   "cell_type": "markdown",
   "id": "7bfe0847",
   "metadata": {},
   "source": [
    "### Столбец sex"
   ]
  },
  {
   "cell_type": "code",
   "execution_count": 1395,
   "id": "df1dca67",
   "metadata": {},
   "outputs": [
    {
     "name": "stdout",
     "output_type": "stream",
     "text": [
      "count     389\n",
      "unique      2\n",
      "top         F\n",
      "freq      204\n",
      "Name: sex, dtype: object\n",
      "\n",
      "Пропущенных значений: 0\n",
      "\n",
      "Уникальные значения:\n",
      "['F' 'M']\n",
      "\n",
      "F    204\n",
      "M    185\n",
      "Name: sex, dtype: int64\n"
     ]
    }
   ],
   "source": [
    "# Второй столбец - пол ученика ('F' - женский, 'M' - мужской)\n",
    "\n",
    "show_info('sex')\n",
    "\n",
    "# Пустых значений нет, девочек чуть больше половины"
   ]
  },
  {
   "cell_type": "markdown",
   "id": "7047829a",
   "metadata": {},
   "source": [
    "### Столбец age"
   ]
  },
  {
   "cell_type": "code",
   "execution_count": 1396,
   "id": "a474ed55",
   "metadata": {},
   "outputs": [
    {
     "name": "stdout",
     "output_type": "stream",
     "text": [
      "count    389.000000\n",
      "mean      16.673522\n",
      "std        1.265662\n",
      "min       15.000000\n",
      "25%       16.000000\n",
      "50%       17.000000\n",
      "75%       18.000000\n",
      "max       22.000000\n",
      "Name: age, dtype: float64\n",
      "\n",
      "Пропущенных значений: 0\n",
      "\n",
      "Уникальные значения:\n",
      "[15, 16, 17, 18, 19, 20, 21, 22]\n",
      "\n",
      "16    103\n",
      "17     98\n",
      "15     82\n",
      "18     80\n",
      "19     21\n",
      "20      3\n",
      "21      1\n",
      "22      1\n",
      "Name: age, dtype: int64\n"
     ]
    },
    {
     "data": {
      "image/png": "[encoded data removed]",
      "text/plain": [
       "<Figure size 864x288 with 2 Axes>"
      ]
     },
     "metadata": {},
     "output_type": "display_data"
    }
   ],
   "source": [
    "# Следующий столбец - возраст ученика\n",
    "\n",
    "show_info('age')\n",
    "\n",
    "# Пропущенных значений нет, выбросов нет (22 не считается выбросом, \n",
    "# так как находится в рамках заданного диапазона)\n",
    "# Возраст учеников варьируется от 15 до 22 лет, большинству от 15 до 18 лет\n",
    "# Несимметричное распределение, смещенное вправо (положительное распределение)"
   ]
  },
  {
   "cell_type": "markdown",
   "id": "2101bda3",
   "metadata": {},
   "source": [
    "### Столбец address"
   ]
  },
  {
   "cell_type": "code",
   "execution_count": 1397,
   "id": "0bbdd47f",
   "metadata": {},
   "outputs": [
    {
     "name": "stdout",
     "output_type": "stream",
     "text": [
      "count     374\n",
      "unique      2\n",
      "top         U\n",
      "freq      291\n",
      "Name: address, dtype: object\n",
      "\n",
      "Пропущенных значений: 15\n",
      "\n",
      "Уникальные значения:\n",
      "['U' nan 'R']\n",
      "\n",
      "U    291\n",
      "R     83\n",
      "Name: address, dtype: int64\n"
     ]
    }
   ],
   "source": [
    "# Столбец address показывает, где проживает ученик: \n",
    "# 'U' - в городе, 'R' - за городом\n",
    "\n",
    "show_info('address')\n",
    "\n",
    "# Большинство учеников живут в городе\n",
    "# Есть пропущенные значения, которые пока не получится заменить"
   ]
  },
  {
   "cell_type": "markdown",
   "id": "5f0520af",
   "metadata": {},
   "source": [
    "### Столбец famsize"
   ]
  },
  {
   "cell_type": "code",
   "execution_count": 1398,
   "id": "1542e3fd",
   "metadata": {},
   "outputs": [
    {
     "name": "stdout",
     "output_type": "stream",
     "text": [
      "count     362\n",
      "unique      2\n",
      "top       GT3\n",
      "freq      255\n",
      "Name: famsize, dtype: object\n",
      "\n",
      "Пропущенных значений: 27\n",
      "\n",
      "Уникальные значения:\n",
      "[nan 'GT3' 'LE3']\n",
      "\n",
      "GT3    255\n",
      "LE3    107\n",
      "Name: famsize, dtype: int64\n"
     ]
    }
   ],
   "source": [
    "# Столбец famsize показывает размер семьи: 'LE3' <= 3, 'GT3' > 3\n",
    "\n",
    "show_info('famsize')\n",
    "\n",
    "# Большинство учеников из многодетных семей\n",
    "# Есть пропущенные значения, которые пока не получится заменить"
   ]
  },
  {
   "cell_type": "markdown",
   "id": "0e058d02",
   "metadata": {},
   "source": [
    "### Столбец Pstatus "
   ]
  },
  {
   "cell_type": "code",
   "execution_count": 1399,
   "id": "f13e3b1e",
   "metadata": {
    "scrolled": true
   },
   "outputs": [
    {
     "name": "stdout",
     "output_type": "stream",
     "text": [
      "count     344\n",
      "unique      2\n",
      "top         T\n",
      "freq      308\n",
      "Name: Pstatus, dtype: object\n",
      "\n",
      "Пропущенных значений: 45\n",
      "\n",
      "Уникальные значения:\n",
      "['A' nan 'T']\n",
      "\n",
      "T    308\n",
      "A     36\n",
      "Name: Pstatus, dtype: int64\n"
     ]
    }
   ],
   "source": [
    "# Столбец Pstatus обозначает статус совместного жилья родителей:\n",
    "# 'T' - живут вместе, 'A' - раздельно\n",
    "\n",
    "show_info('Pstatus')\n",
    "\n",
    "# Большинство учеников из полных семей\n",
    "# Есть довольно много пропущенных значений, которые пока не получится заменить"
   ]
  },
  {
   "cell_type": "markdown",
   "id": "a78a569e",
   "metadata": {},
   "source": [
    "### Столбец Medu"
   ]
  },
  {
   "cell_type": "code",
   "execution_count": 1400,
   "id": "79a10b3a",
   "metadata": {
    "scrolled": false
   },
   "outputs": [
    {
     "name": "stdout",
     "output_type": "stream",
     "text": [
      "count    386.000000\n",
      "mean       2.766839\n",
      "std        1.094277\n",
      "min        0.000000\n",
      "25%        2.000000\n",
      "50%        3.000000\n",
      "75%        4.000000\n",
      "max        4.000000\n",
      "Name: Medu, dtype: float64\n",
      "\n",
      "Пропущенных значений: 3\n",
      "\n",
      "Уникальные значения:\n",
      "[0.0, 1.0, 2.0, 3.0, 4.0, nan]\n",
      "\n",
      "4.0    131\n",
      "2.0    100\n",
      "3.0     96\n",
      "1.0     56\n",
      "0.0      3\n",
      "Name: Medu, dtype: int64\n"
     ]
    },
    {
     "data": {
      "image/png": "[encoded data removed]",
      "text/plain": [
       "<Figure size 864x288 with 2 Axes>"
      ]
     },
     "metadata": {},
     "output_type": "display_data"
    }
   ],
   "source": [
    "# Столбец Medu - образование матери:\n",
    "# 0 - нет, 1 - 4 класса, 2 - 5-9 классы, 3 - среднее специальное или \n",
    "# 11 классов, 4 - высшее\n",
    "\n",
    "show_info('Medu')\n",
    "\n",
    "# Есть 3 пропущенных значения, которые мы пока оставим\n",
    "# Распределение несимметричное, смещённое влево"
   ]
  },
  {
   "cell_type": "markdown",
   "id": "af092278",
   "metadata": {},
   "source": [
    "### Столбец Fedu"
   ]
  },
  {
   "cell_type": "code",
   "execution_count": 1401,
   "id": "b53da912",
   "metadata": {
    "scrolled": false
   },
   "outputs": [
    {
     "name": "stdout",
     "output_type": "stream",
     "text": [
      "count    365.000000\n",
      "mean       2.627397\n",
      "std        2.241790\n",
      "min        0.000000\n",
      "25%        2.000000\n",
      "50%        3.000000\n",
      "75%        3.000000\n",
      "max       40.000000\n",
      "Name: Fedu, dtype: float64\n",
      "\n",
      "Пропущенных значений: 24\n",
      "\n",
      "Уникальные значения:\n",
      "[0.0, 1.0, 2.0, 3.0, 4.0, 40.0, nan]\n",
      "\n",
      "2.0     105\n",
      "3.0      94\n",
      "4.0      88\n",
      "1.0      75\n",
      "0.0       2\n",
      "40.0      1\n",
      "Name: Fedu, dtype: int64\n"
     ]
    },
    {
     "data": {
      "image/png": "[encoded data removed]",
      "text/plain": [
       "<Figure size 864x288 with 2 Axes>"
      ]
     },
     "metadata": {},
     "output_type": "display_data"
    }
   ],
   "source": [
    "# Столбец Fedu - образование отца:\n",
    "# 0 - нет, 1 - 4 класса, 2 - 5-9 классы, 3 - среднее специальное или \n",
    "# 11 классов, 4 - высшее\n",
    "\n",
    "show_info('Fedu')"
   ]
  },
  {
   "cell_type": "code",
   "execution_count": 1402,
   "id": "1ed21ebf",
   "metadata": {},
   "outputs": [
    {
     "name": "stdout",
     "output_type": "stream",
     "text": [
      "count    365.000000\n",
      "mean       2.528767\n",
      "std        1.088082\n",
      "min        0.000000\n",
      "25%        2.000000\n",
      "50%        3.000000\n",
      "75%        3.000000\n",
      "max        4.000000\n",
      "Name: Fedu, dtype: float64\n",
      "\n",
      "Пропущенных значений: 24\n",
      "\n",
      "Уникальные значения:\n",
      "[0.0, 1.0, 2.0, 3.0, 4.0, nan]\n",
      "\n",
      "2.0    105\n",
      "3.0     94\n",
      "4.0     89\n",
      "1.0     75\n",
      "0.0      2\n",
      "Name: Fedu, dtype: int64\n"
     ]
    },
    {
     "data": {
      "image/png": "[encoded data removed]",
      "text/plain": [
       "<Figure size 864x288 with 2 Axes>"
      ]
     },
     "metadata": {},
     "output_type": "display_data"
    }
   ],
   "source": [
    "# Есть один выброс - 40, скорее всего это опечатка, заменим его на 4:\n",
    "\n",
    "df.Fedu[df.Fedu == 40] = 4\n",
    "\n",
    "# И посмотрим ещё раз на распределение признака:\n",
    "\n",
    "show_info('Fedu')\n",
    "\n",
    "# Есть 24 пропущенных значения, которые мы пока оставим\n",
    "# Распределение несимметричное, смещённое влево"
   ]
  },
  {
   "cell_type": "markdown",
   "id": "724d39d0",
   "metadata": {},
   "source": [
    "### Столбец Mjob"
   ]
  },
  {
   "cell_type": "code",
   "execution_count": 1403,
   "id": "6aa45371",
   "metadata": {
    "scrolled": false
   },
   "outputs": [
    {
     "name": "stdout",
     "output_type": "stream",
     "text": [
      "count       370\n",
      "unique        5\n",
      "top       other\n",
      "freq        127\n",
      "Name: Mjob, dtype: object\n",
      "\n",
      "Пропущенных значений: 19\n",
      "\n",
      "Уникальные значения:\n",
      "['at_home' 'health' 'other' 'services' 'teacher' nan]\n",
      "\n",
      "other       127\n",
      "services     98\n",
      "at_home      58\n",
      "teacher      55\n",
      "health       32\n",
      "Name: Mjob, dtype: int64\n"
     ]
    }
   ],
   "source": [
    "# Столбец Mjob — работа матери: 'teacher' - учитель, 'health' - \n",
    "# сфера здравоохранения, 'services' - гос служба, 'at_home' - не работает, \n",
    "# 'other' - другое\n",
    "\n",
    "show_info('Mjob')"
   ]
  },
  {
   "cell_type": "code",
   "execution_count": 1404,
   "id": "28e46800",
   "metadata": {
    "scrolled": true
   },
   "outputs": [
    {
     "name": "stdout",
     "output_type": "stream",
     "text": [
      "count       389\n",
      "unique        5\n",
      "top       other\n",
      "freq        146\n",
      "Name: Mjob, dtype: object\n",
      "\n",
      "Пропущенных значений: 0\n",
      "\n",
      "Уникальные значения:\n",
      "['at_home' 'health' 'other' 'services' 'teacher']\n",
      "\n",
      "other       146\n",
      "services     98\n",
      "at_home      58\n",
      "teacher      55\n",
      "health       32\n",
      "Name: Mjob, dtype: int64\n"
     ]
    }
   ],
   "source": [
    "# Пустых значений 19, заменим их на наиболее часто встречающееся значение -\n",
    "# 'other' (другое):\n",
    "\n",
    "df.Mjob.fillna(df.Mjob.mode()[0], inplace=True)\n",
    "show_info('Mjob')"
   ]
  },
  {
   "cell_type": "markdown",
   "id": "12f911cc",
   "metadata": {},
   "source": [
    "### Столбец Fjob"
   ]
  },
  {
   "cell_type": "code",
   "execution_count": 1405,
   "id": "a4f1bdd7",
   "metadata": {
    "scrolled": true
   },
   "outputs": [
    {
     "name": "stdout",
     "output_type": "stream",
     "text": [
      "count       353\n",
      "unique        5\n",
      "top       other\n",
      "freq        194\n",
      "Name: Fjob, dtype: object\n",
      "\n",
      "Пропущенных значений: 36\n",
      "\n",
      "Уникальные значения:\n",
      "['teacher' 'other' nan 'health' 'services' 'at_home']\n",
      "\n",
      "other       194\n",
      "services     99\n",
      "teacher      29\n",
      "at_home      16\n",
      "health       15\n",
      "Name: Fjob, dtype: int64\n"
     ]
    }
   ],
   "source": [
    "# Столбец Fjob — работа отца: 'teacher' - учитель, 'health' - \n",
    "# сфера здравоохранения, 'services' - гос служба, 'at_home' - не работает, \n",
    "# 'other' - другое\n",
    "\n",
    "show_info('Fjob')"
   ]
  },
  {
   "cell_type": "code",
   "execution_count": 1406,
   "id": "84a38f2f",
   "metadata": {},
   "outputs": [
    {
     "name": "stdout",
     "output_type": "stream",
     "text": [
      "count       389\n",
      "unique        5\n",
      "top       other\n",
      "freq        230\n",
      "Name: Fjob, dtype: object\n",
      "\n",
      "Пропущенных значений: 0\n",
      "\n",
      "Уникальные значения:\n",
      "['teacher' 'other' 'health' 'services' 'at_home']\n",
      "\n",
      "other       230\n",
      "services     99\n",
      "teacher      29\n",
      "at_home      16\n",
      "health       15\n",
      "Name: Fjob, dtype: int64\n"
     ]
    }
   ],
   "source": [
    "# Пустых значений 36, заменим их на наиболее часто встречающееся значение -\n",
    "# 'other' (другое):\n",
    "\n",
    "df.Fjob.fillna(df.Fjob.mode()[0], inplace=True)\n",
    "show_info('Fjob')"
   ]
  },
  {
   "cell_type": "markdown",
   "id": "12d2c0c8",
   "metadata": {},
   "source": [
    "### Столбец reason"
   ]
  },
  {
   "cell_type": "code",
   "execution_count": 1407,
   "id": "d1e26b5c",
   "metadata": {
    "scrolled": true
   },
   "outputs": [
    {
     "name": "stdout",
     "output_type": "stream",
     "text": [
      "count        372\n",
      "unique         4\n",
      "top       course\n",
      "freq         135\n",
      "Name: reason, dtype: object\n",
      "\n",
      "Пропущенных значений: 17\n",
      "\n",
      "Уникальные значения:\n",
      "['course' 'other' 'home' 'reputation' nan]\n",
      "\n",
      "course        135\n",
      "reputation    102\n",
      "home          101\n",
      "other          34\n",
      "Name: reason, dtype: int64\n"
     ]
    }
   ],
   "source": [
    "# Столбец reason описывает причину выбора школы: \n",
    "# 'home' - близость к дому, 'reputation' - репутация школы, \n",
    "# 'course' - образовательная программа, 'other' - другое\n",
    "\n",
    "show_info('reason')"
   ]
  },
  {
   "cell_type": "code",
   "execution_count": 1408,
   "id": "2be13fdd",
   "metadata": {},
   "outputs": [
    {
     "name": "stdout",
     "output_type": "stream",
     "text": [
      "count        389\n",
      "unique         4\n",
      "top       course\n",
      "freq         135\n",
      "Name: reason, dtype: object\n",
      "\n",
      "Пропущенных значений: 0\n",
      "\n",
      "Уникальные значения:\n",
      "['course' 'other' 'home' 'reputation']\n",
      "\n",
      "course        135\n",
      "reputation    102\n",
      "home          101\n",
      "other          51\n",
      "Name: reason, dtype: int64\n"
     ]
    }
   ],
   "source": [
    "# Пустых значений 17. Так как они не относятся ни к одной категории, то\n",
    "# заменим их на 'other' (другое):\n",
    "\n",
    "df.reason.fillna('other', inplace=True)\n",
    "show_info('reason')"
   ]
  },
  {
   "cell_type": "markdown",
   "id": "30582147",
   "metadata": {},
   "source": [
    "### Столбец guardian"
   ]
  },
  {
   "cell_type": "code",
   "execution_count": 1409,
   "id": "0fcc9b99",
   "metadata": {
    "scrolled": true
   },
   "outputs": [
    {
     "name": "stdout",
     "output_type": "stream",
     "text": [
      "count        358\n",
      "unique         3\n",
      "top       mother\n",
      "freq         248\n",
      "Name: guardian, dtype: object\n",
      "\n",
      "Пропущенных значений: 31\n",
      "\n",
      "Уникальные значения:\n",
      "['mother' 'father' 'other' nan]\n",
      "\n",
      "mother    248\n",
      "father     86\n",
      "other      24\n",
      "Name: guardian, dtype: int64\n"
     ]
    }
   ],
   "source": [
    "# Столбец guardian обозначает опекуна ученика:\n",
    "# 'mother' - мать, 'father' - отец, 'other' - другое\n",
    "\n",
    "show_info('guardian')"
   ]
  },
  {
   "cell_type": "code",
   "execution_count": 1410,
   "id": "663075d6",
   "metadata": {},
   "outputs": [
    {
     "name": "stdout",
     "output_type": "stream",
     "text": [
      "count        389\n",
      "unique         3\n",
      "top       mother\n",
      "freq         248\n",
      "Name: guardian, dtype: object\n",
      "\n",
      "Пропущенных значений: 0\n",
      "\n",
      "Уникальные значения:\n",
      "['mother' 'father' 'other']\n",
      "\n",
      "mother    248\n",
      "father     86\n",
      "other      55\n",
      "Name: guardian, dtype: int64\n"
     ]
    }
   ],
   "source": [
    "# Так как пропущенные значения не относятся ни к одной категории, то\n",
    "# заменим их на 'other' (другое):\n",
    "\n",
    "df.guardian.fillna('other', inplace=True)\n",
    "show_info('guardian')"
   ]
  },
  {
   "cell_type": "markdown",
   "id": "042300d8",
   "metadata": {},
   "source": [
    "### Столбец traveltime"
   ]
  },
  {
   "cell_type": "code",
   "execution_count": 1411,
   "id": "9a3415fe",
   "metadata": {
    "scrolled": false
   },
   "outputs": [
    {
     "name": "stdout",
     "output_type": "stream",
     "text": [
      "count    361.000000\n",
      "mean       1.434903\n",
      "std        0.692660\n",
      "min        1.000000\n",
      "25%        1.000000\n",
      "50%        1.000000\n",
      "75%        2.000000\n",
      "max        4.000000\n",
      "Name: traveltime, dtype: float64\n",
      "\n",
      "Пропущенных значений: 28\n",
      "\n",
      "Уникальные значения:\n",
      "[1.0, 2.0, 3.0, nan, 4.0]\n",
      "\n",
      "1.0    239\n",
      "2.0     94\n",
      "3.0     21\n",
      "4.0      7\n",
      "Name: traveltime, dtype: int64\n"
     ]
    },
    {
     "data": {
      "image/png": "[encoded data removed]",
      "text/plain": [
       "<Figure size 864x288 with 2 Axes>"
      ]
     },
     "metadata": {},
     "output_type": "display_data"
    }
   ],
   "source": [
    "# Столбец traveltime показывает время в пути до школы:\n",
    "# 1 - <15 мин., 2 - 15-30 мин., 3 - 30-60 мин., 4 - >60 мин.\n",
    "\n",
    "show_info('traveltime')\n",
    "\n",
    "# Несимметричное распределение, смещенное вправо\n",
    "# Выбросов нет (4 не считается выбросом, так как находится в рамках заданного \n",
    "# диапазона)\n",
    "# Есть пропущенные значения, заменять которые пока не стоит"
   ]
  },
  {
   "cell_type": "markdown",
   "id": "496810dd",
   "metadata": {},
   "source": [
    "### Столбец studytime"
   ]
  },
  {
   "cell_type": "code",
   "execution_count": 1412,
   "id": "539efc79",
   "metadata": {
    "scrolled": false
   },
   "outputs": [
    {
     "name": "stdout",
     "output_type": "stream",
     "text": [
      "count    382.000000\n",
      "mean       2.036649\n",
      "std        0.847239\n",
      "min        1.000000\n",
      "25%        1.000000\n",
      "50%        2.000000\n",
      "75%        2.000000\n",
      "max        4.000000\n",
      "Name: studytime, dtype: float64\n",
      "\n",
      "Пропущенных значений: 7\n",
      "\n",
      "Уникальные значения:\n",
      "[1.0, 2.0, 3.0, nan, 4.0]\n",
      "\n",
      "2.0    189\n",
      "1.0    103\n",
      "3.0     63\n",
      "4.0     27\n",
      "Name: studytime, dtype: int64\n"
     ]
    },
    {
     "data": {
      "image/png": "[encoded data removed]",
      "text/plain": [
       "<Figure size 864x288 with 2 Axes>"
      ]
     },
     "metadata": {},
     "output_type": "display_data"
    }
   ],
   "source": [
    "# Столбец studytime показывает время на учёбу помимо школы в неделю:\n",
    "# 1 - <2 часов, 2 - 2-5 часов, 3 - 5-10 часов, 4 - >10 часов\n",
    "\n",
    "show_info('studytime')\n",
    "\n",
    "# Несимметричное распределение, смещенное вправо\n",
    "# Выбросов нет (4 не считается выбросом, так как находится в рамках заданного \n",
    "# диапазона)\n",
    "# Есть пропущенные значения, заменять которые пока не стоит"
   ]
  },
  {
   "cell_type": "markdown",
   "id": "c2d7cd76",
   "metadata": {},
   "source": [
    "### Столбец studytime_granular"
   ]
  },
  {
   "cell_type": "code",
   "execution_count": 1413,
   "id": "1caa9bcc",
   "metadata": {},
   "outputs": [
    {
     "data": {
      "text/plain": [
       "-3.0    382\n",
       "dtype: int64"
      ]
     },
     "execution_count": 1413,
     "metadata": {},
     "output_type": "execute_result"
    }
   ],
   "source": [
    "(df.studytime_granular/df.studytime).value_counts()"
   ]
  },
  {
   "cell_type": "code",
   "execution_count": 1414,
   "id": "2b1a0601",
   "metadata": {
    "scrolled": false
   },
   "outputs": [
    {
     "name": "stdout",
     "output_type": "stream",
     "text": [
      "count    382.000000\n",
      "mean      -6.109948\n",
      "std        2.541716\n",
      "min      -12.000000\n",
      "25%       -6.000000\n",
      "50%       -6.000000\n",
      "75%       -3.000000\n",
      "max       -3.000000\n",
      "Name: studytime_granular, dtype: float64\n",
      "\n",
      "Пропущенных значений: 7\n",
      "\n",
      "Уникальные значения:\n",
      "[-12.0, -9.0, -6.0, -3.0, nan]\n",
      "\n",
      "-6.0     189\n",
      "-3.0     103\n",
      "-9.0      63\n",
      "-12.0     27\n",
      "Name: studytime_granular, dtype: int64\n"
     ]
    },
    {
     "data": {
      "image/png": "[encoded data removed]",
      "text/plain": [
       "<Figure size 864x288 with 2 Axes>"
      ]
     },
     "metadata": {},
     "output_type": "display_data"
    }
   ],
   "source": [
    "# Кроме просто studytime есть столбец studytime_granular\n",
    "# В нём находятся значения столбца studytime, умноженные на -3 (?)\n",
    "\n",
    "show_info('studytime_granular')\n",
    "\n",
    "# Несимметричное распределение, смещенное влево (обратное studytime)\n",
    "# Есть пропущенные значения, заменять которые пока не будем"
   ]
  },
  {
   "cell_type": "markdown",
   "id": "9c302722",
   "metadata": {},
   "source": [
    "### Столбец failures"
   ]
  },
  {
   "cell_type": "code",
   "execution_count": 1415,
   "id": "457ad2df",
   "metadata": {
    "scrolled": false
   },
   "outputs": [
    {
     "name": "stdout",
     "output_type": "stream",
     "text": [
      "count    367.000000\n",
      "mean       0.326975\n",
      "std        0.729479\n",
      "min        0.000000\n",
      "25%        0.000000\n",
      "50%        0.000000\n",
      "75%        0.000000\n",
      "max        3.000000\n",
      "Name: failures, dtype: float64\n",
      "\n",
      "Пропущенных значений: 22\n",
      "\n",
      "Уникальные значения:\n",
      "[0.0, 3.0, nan, 1.0, 2.0]\n",
      "\n",
      "0.0    290\n",
      "1.0     48\n",
      "2.0     15\n",
      "3.0     14\n",
      "Name: failures, dtype: int64\n"
     ]
    },
    {
     "data": {
      "image/png": "[encoded data removed]",
      "text/plain": [
       "<Figure size 864x288 with 2 Axes>"
      ]
     },
     "metadata": {},
     "output_type": "display_data"
    }
   ],
   "source": [
    "# Столбец failures - количество внеучебных неудач: n, если 1<=n<=3, иначе 0\n",
    "\n",
    "show_info('failures')\n",
    "\n",
    "# Несимметричное распределение, смещенное вправо\n",
    "# Выбросов нет, так как все значения находится в рамках заданного диапазона"
   ]
  },
  {
   "cell_type": "code",
   "execution_count": 1416,
   "id": "b542f983",
   "metadata": {},
   "outputs": [],
   "source": [
    "# Но! Самое часто встречающееся значение с очень большим отрывом - 0\n",
    "# То есть почти 80% учеников либо не имеют неудач, либо имют больше трёх\n",
    "# Так как мы не знаем, является ли это отсутствием или большим количеством\n",
    "# неудач, то, по-моему, эти данные будут только мешать в постороении модели,\n",
    "# так что я просто удалю этот столбец:\n",
    "\n",
    "df.drop(columns='failures', inplace=True)"
   ]
  },
  {
   "cell_type": "markdown",
   "id": "a4e93591",
   "metadata": {},
   "source": [
    "### Столбец schoolsup"
   ]
  },
  {
   "cell_type": "code",
   "execution_count": 1417,
   "id": "2c2ebd5f",
   "metadata": {
    "scrolled": false
   },
   "outputs": [
    {
     "name": "stdout",
     "output_type": "stream",
     "text": [
      "count     380\n",
      "unique      2\n",
      "top        no\n",
      "freq      331\n",
      "Name: schoolsup, dtype: object\n",
      "\n",
      "Пропущенных значений: 9\n",
      "\n",
      "Уникальные значения:\n",
      "['yes' 'no' nan]\n",
      "\n",
      "no     331\n",
      "yes     49\n",
      "Name: schoolsup, dtype: int64\n"
     ]
    }
   ],
   "source": [
    "# Столбец schoolsup показывает, есть ли у ученика дополнительная \n",
    "# образовательная поддержка (yes или no)\n",
    "\n",
    "show_info('schoolsup')\n",
    "\n",
    "# Большинство учеников не получает доп. поддержку"
   ]
  },
  {
   "cell_type": "code",
   "execution_count": 1418,
   "id": "b3b348eb",
   "metadata": {},
   "outputs": [
    {
     "name": "stdout",
     "output_type": "stream",
     "text": [
      "count     389\n",
      "unique      2\n",
      "top        no\n",
      "freq      340\n",
      "Name: schoolsup, dtype: object\n",
      "\n",
      "Пропущенных значений: 0\n",
      "\n",
      "Уникальные значения:\n",
      "['yes' 'no']\n",
      "\n",
      "no     340\n",
      "yes     49\n",
      "Name: schoolsup, dtype: int64\n"
     ]
    }
   ],
   "source": [
    "# Есть пропущенные значения, их довольно мало, так что заменим на 'no' - \n",
    "# наиболее часто встречающееся значение:\n",
    "\n",
    "df.schoolsup.fillna(df.schoolsup.mode()[0], inplace=True)\n",
    "show_info('schoolsup')"
   ]
  },
  {
   "cell_type": "markdown",
   "id": "32e8f0e3",
   "metadata": {},
   "source": [
    "### Столбец famsup"
   ]
  },
  {
   "cell_type": "code",
   "execution_count": 1419,
   "id": "571a0d68",
   "metadata": {
    "scrolled": false
   },
   "outputs": [
    {
     "name": "stdout",
     "output_type": "stream",
     "text": [
      "count     351\n",
      "unique      2\n",
      "top       yes\n",
      "freq      216\n",
      "Name: famsup, dtype: object\n",
      "\n",
      "Пропущенных значений: 38\n",
      "\n",
      "Уникальные значения:\n",
      "['no' 'yes' nan]\n",
      "\n",
      "yes    216\n",
      "no     135\n",
      "Name: famsup, dtype: int64\n"
     ]
    }
   ],
   "source": [
    "# Столбец famsup показывает, есть ли у ученика дополнительная \n",
    "# семейная поддержка (yes или no)\n",
    "\n",
    "show_info('famsup')\n",
    "\n",
    "# Большинство учеников получает поддержку от семьи\n",
    "# Есть пропущенные значения, но пока непонятно, на что их лучше заменить"
   ]
  },
  {
   "cell_type": "markdown",
   "id": "2901f3d0",
   "metadata": {},
   "source": [
    "### Столбец paid"
   ]
  },
  {
   "cell_type": "code",
   "execution_count": 1420,
   "id": "d93fd05b",
   "metadata": {
    "scrolled": false
   },
   "outputs": [
    {
     "name": "stdout",
     "output_type": "stream",
     "text": [
      "count     350\n",
      "unique      2\n",
      "top        no\n",
      "freq      197\n",
      "Name: paid, dtype: object\n",
      "\n",
      "Пропущенных значений: 39\n",
      "\n",
      "Уникальные значения:\n",
      "['no' nan 'yes']\n",
      "\n",
      "no     197\n",
      "yes    153\n",
      "Name: paid, dtype: int64\n"
     ]
    }
   ],
   "source": [
    "# Столбец paid показывает, берёт ли ученик дополнительные платные \n",
    "# занятия по математике (yes или no)\n",
    "\n",
    "show_info('paid')\n",
    "\n",
    "# Большинство учеников не берут платные занятия\n",
    "# Есть пропущенные значения, но пока непонятно, на что их лучше заменить"
   ]
  },
  {
   "cell_type": "markdown",
   "id": "a3ee596e",
   "metadata": {},
   "source": [
    "### Столбец activities"
   ]
  },
  {
   "cell_type": "code",
   "execution_count": 1421,
   "id": "6263dc1f",
   "metadata": {
    "scrolled": false
   },
   "outputs": [
    {
     "name": "stdout",
     "output_type": "stream",
     "text": [
      "count     375\n",
      "unique      2\n",
      "top       yes\n",
      "freq      192\n",
      "Name: activities, dtype: object\n",
      "\n",
      "Пропущенных значений: 14\n",
      "\n",
      "Уникальные значения:\n",
      "['no' 'yes' nan]\n",
      "\n",
      "yes    192\n",
      "no     183\n",
      "Name: activities, dtype: int64\n"
     ]
    }
   ],
   "source": [
    "# Столбец activities показывает, берёт ли ученик дополнительные внеучебные \n",
    "# занятия (yes или no)\n",
    "\n",
    "show_info('activities')\n",
    "\n",
    "# Большинство учеников занимаются дополнительными внеучебными занятиями, \n",
    "# но разница между показателями небольшая\n",
    "# Есть пропущенные значения, но пока непонятно, на что их лучше заменить"
   ]
  },
  {
   "cell_type": "markdown",
   "id": "34602759",
   "metadata": {},
   "source": [
    "### Столбец nursery"
   ]
  },
  {
   "cell_type": "code",
   "execution_count": 1422,
   "id": "3f65eb86",
   "metadata": {
    "scrolled": false
   },
   "outputs": [
    {
     "name": "stdout",
     "output_type": "stream",
     "text": [
      "count     374\n",
      "unique      2\n",
      "top       yes\n",
      "freq      297\n",
      "Name: nursery, dtype: object\n",
      "\n",
      "Пропущенных значений: 15\n",
      "\n",
      "Уникальные значения:\n",
      "['yes' 'no' nan]\n",
      "\n",
      "yes    297\n",
      "no      77\n",
      "Name: nursery, dtype: int64\n"
     ]
    }
   ],
   "source": [
    "# Столбец nursery показывает, посещал ли ученик детский сад (yes или no)\n",
    "\n",
    "show_info('nursery')\n",
    "\n",
    "# Большинство учеников посещали детский сад"
   ]
  },
  {
   "cell_type": "code",
   "execution_count": 1423,
   "id": "269bf905",
   "metadata": {},
   "outputs": [
    {
     "name": "stdout",
     "output_type": "stream",
     "text": [
      "count     389\n",
      "unique      2\n",
      "top       yes\n",
      "freq      312\n",
      "Name: nursery, dtype: object\n",
      "\n",
      "Пропущенных значений: 0\n",
      "\n",
      "Уникальные значения:\n",
      "['yes' 'no']\n",
      "\n",
      "yes    312\n",
      "no      77\n",
      "Name: nursery, dtype: int64\n"
     ]
    }
   ],
   "source": [
    "# Есть пропущенные значения, их довольно мало, так что заменим на 'yes' - \n",
    "# наиболее часто встречающееся значение:\n",
    "\n",
    "df.nursery.fillna(df.nursery.mode()[0], inplace=True)\n",
    "show_info('nursery')"
   ]
  },
  {
   "cell_type": "markdown",
   "id": "fd012bcc",
   "metadata": {},
   "source": [
    "### Столбец higher"
   ]
  },
  {
   "cell_type": "code",
   "execution_count": 1424,
   "id": "88ae2f94",
   "metadata": {
    "scrolled": false
   },
   "outputs": [
    {
     "name": "stdout",
     "output_type": "stream",
     "text": [
      "count     369\n",
      "unique      2\n",
      "top       yes\n",
      "freq      350\n",
      "Name: higher, dtype: object\n",
      "\n",
      "Пропущенных значений: 20\n",
      "\n",
      "Уникальные значения:\n",
      "['yes' nan 'no']\n",
      "\n",
      "yes    350\n",
      "no      19\n",
      "Name: higher, dtype: int64\n"
     ]
    }
   ],
   "source": [
    "# Столбец paid показывает, собирается ли ученик получать высшее (yes или no)\n",
    "\n",
    "show_info('higher')\n",
    "\n",
    "# Почти все ученики хотят получить высшее образование"
   ]
  },
  {
   "cell_type": "code",
   "execution_count": 1425,
   "id": "b2be0a2f",
   "metadata": {},
   "outputs": [
    {
     "name": "stdout",
     "output_type": "stream",
     "text": [
      "count     389\n",
      "unique      2\n",
      "top       yes\n",
      "freq      370\n",
      "Name: higher, dtype: object\n",
      "\n",
      "Пропущенных значений: 0\n",
      "\n",
      "Уникальные значения:\n",
      "['yes' 'no']\n",
      "\n",
      "yes    370\n",
      "no      19\n",
      "Name: higher, dtype: int64\n"
     ]
    }
   ],
   "source": [
    "# Есть пропущенные значения, их довольно мало, так что заменим на 'yes' - \n",
    "# наиболее часто встречающееся значение:\n",
    "\n",
    "df.higher.fillna(df.higher.mode()[0], inplace=True)\n",
    "show_info('higher')"
   ]
  },
  {
   "cell_type": "markdown",
   "id": "2ef80ab0",
   "metadata": {},
   "source": [
    "### Столбец internet"
   ]
  },
  {
   "cell_type": "code",
   "execution_count": 1426,
   "id": "7213b38a",
   "metadata": {
    "scrolled": false
   },
   "outputs": [
    {
     "name": "stdout",
     "output_type": "stream",
     "text": [
      "count     355\n",
      "unique      2\n",
      "top       yes\n",
      "freq      300\n",
      "Name: internet, dtype: object\n",
      "\n",
      "Пропущенных значений: 34\n",
      "\n",
      "Уникальные значения:\n",
      "[nan 'yes' 'no']\n",
      "\n",
      "yes    300\n",
      "no      55\n",
      "Name: internet, dtype: int64\n"
     ]
    }
   ],
   "source": [
    "# Столбец internet обозначает, есть ли у ученика интернет дома (yes или no)\n",
    "\n",
    "show_info('internet')\n",
    "\n",
    "# У большинства учеников есть интернет\n",
    "# Есть пропущенные значения, но пока непонятно, на что их лучше заменить"
   ]
  },
  {
   "cell_type": "markdown",
   "id": "5c78b386",
   "metadata": {},
   "source": [
    "### Столбец romantic"
   ]
  },
  {
   "cell_type": "code",
   "execution_count": 1427,
   "id": "005c8dd4",
   "metadata": {
    "scrolled": false
   },
   "outputs": [
    {
     "name": "stdout",
     "output_type": "stream",
     "text": [
      "count     358\n",
      "unique      2\n",
      "top        no\n",
      "freq      235\n",
      "Name: romantic, dtype: object\n",
      "\n",
      "Пропущенных значений: 31\n",
      "\n",
      "Уникальные значения:\n",
      "['no' nan 'yes']\n",
      "\n",
      "no     235\n",
      "yes    123\n",
      "Name: romantic, dtype: int64\n"
     ]
    }
   ],
   "source": [
    "# Столбец romantic показывает, состоит ли ученик в отношениях (yes или no)\n",
    "\n",
    "show_info('romantic')\n",
    "\n",
    "# Большинство учеников не состоят в отношениях\n",
    "# Думаю, этот параметр может быть связан с возрастом\n",
    "# Есть пропущенные значения, но пока непонятно, на что их лучше заменить\n",
    "# Можно было бы найти связь с возрастом (и/или другими параметрами) и \n",
    "# заполнить пустые значения исходя из этого. Пока оставим так"
   ]
  },
  {
   "cell_type": "markdown",
   "id": "054741af",
   "metadata": {},
   "source": [
    "### Столбец famrel"
   ]
  },
  {
   "cell_type": "code",
   "execution_count": 1428,
   "id": "adbaf776",
   "metadata": {
    "scrolled": false
   },
   "outputs": [
    {
     "name": "stdout",
     "output_type": "stream",
     "text": [
      "count    362.000000\n",
      "mean       3.930939\n",
      "std        0.931554\n",
      "min       -1.000000\n",
      "25%        4.000000\n",
      "50%        4.000000\n",
      "75%        5.000000\n",
      "max        5.000000\n",
      "Name: famrel, dtype: float64\n",
      "\n",
      "Пропущенных значений: 27\n",
      "\n",
      "Уникальные значения:\n",
      "[-1.0, 1.0, 2.0, 3.0, 4.0, 5.0, nan]\n",
      "\n",
      " 4.0    178\n",
      " 5.0     97\n",
      " 3.0     62\n",
      " 2.0     17\n",
      " 1.0      7\n",
      "-1.0      1\n",
      "Name: famrel, dtype: int64\n"
     ]
    },
    {
     "data": {
      "image/png": "[encoded data removed]",
      "text/plain": [
       "<Figure size 864x288 with 2 Axes>"
      ]
     },
     "metadata": {},
     "output_type": "display_data"
    }
   ],
   "source": [
    "# Столбец famrel описывает семейные отношения:\n",
    "# от 1 - очень плохо до 5 - очень хорошо\n",
    "\n",
    "show_info('famrel')\n",
    "\n",
    "# У большинства учеников хорошие отношения в семье"
   ]
  },
  {
   "cell_type": "code",
   "execution_count": 1429,
   "id": "7374fee8",
   "metadata": {
    "scrolled": false
   },
   "outputs": [
    {
     "name": "stdout",
     "output_type": "stream",
     "text": [
      "count    362.000000\n",
      "mean       3.936464\n",
      "std        0.907858\n",
      "min        1.000000\n",
      "25%        4.000000\n",
      "50%        4.000000\n",
      "75%        5.000000\n",
      "max        5.000000\n",
      "Name: famrel, dtype: float64\n",
      "\n",
      "Пропущенных значений: 27\n",
      "\n",
      "Уникальные значения:\n",
      "[1.0, 2.0, 3.0, 4.0, 5.0, nan]\n",
      "\n",
      "4.0    178\n",
      "5.0     97\n",
      "3.0     62\n",
      "2.0     17\n",
      "1.0      8\n",
      "Name: famrel, dtype: int64\n"
     ]
    },
    {
     "data": {
      "image/png": "[encoded data removed]",
      "text/plain": [
       "<Figure size 864x288 with 2 Axes>"
      ]
     },
     "metadata": {},
     "output_type": "display_data"
    }
   ],
   "source": [
    "# 1 и 2 не будем считать выбросами, так как они внутри заданного диапазона\n",
    "# Есть один выброс - -1, скорее всего это опечатка, заменим его на 1:\n",
    "\n",
    "df.famrel[df.famrel == -1] = 1\n",
    "\n",
    "# И посмотрим ещё раз на распределение признака:\n",
    "\n",
    "show_info('famrel')\n",
    "\n",
    "# Распределение несимметричное, смещённое влево\n",
    "# Есть пропущенные значения, но пока непонятно, на что их лучше заменить"
   ]
  },
  {
   "cell_type": "markdown",
   "id": "ad72017a",
   "metadata": {},
   "source": [
    "### Столбец freetime"
   ]
  },
  {
   "cell_type": "code",
   "execution_count": 1430,
   "id": "328ca8b0",
   "metadata": {
    "scrolled": false
   },
   "outputs": [
    {
     "name": "stdout",
     "output_type": "stream",
     "text": [
      "count    380.000000\n",
      "mean       3.223684\n",
      "std        0.993364\n",
      "min        1.000000\n",
      "25%        3.000000\n",
      "50%        3.000000\n",
      "75%        4.000000\n",
      "max        5.000000\n",
      "Name: freetime, dtype: float64\n",
      "\n",
      "Пропущенных значений: 9\n",
      "\n",
      "Уникальные значения:\n",
      "[1.0, 2.0, 3.0, 4.0, 5.0, nan]\n",
      "\n",
      "3.0    152\n",
      "4.0    110\n",
      "2.0     63\n",
      "5.0     37\n",
      "1.0     18\n",
      "Name: freetime, dtype: int64\n"
     ]
    },
    {
     "data": {
      "image/png": "[encoded data removed]",
      "text/plain": [
       "<Figure size 864x288 with 2 Axes>"
      ]
     },
     "metadata": {},
     "output_type": "display_data"
    }
   ],
   "source": [
    "# Столбец freetime описывает свободное время после школы:\n",
    "# от 1 - очень мало до 5 - очень много\n",
    "\n",
    "show_info('freetime')\n",
    "\n",
    "# У большинства учеников среднее количество свободного времени\n",
    "# Выбросов нет (1 - не выброс, так как находится в заданном диапазоне)"
   ]
  },
  {
   "cell_type": "code",
   "execution_count": 1431,
   "id": "4f5a0a2f",
   "metadata": {},
   "outputs": [],
   "source": [
    "# Есть пропущенные значения, их довольно мало, заменим их на медиану:\n",
    "\n",
    "df.freetime.fillna(df.freetime.median(), inplace=True)"
   ]
  },
  {
   "cell_type": "markdown",
   "id": "72720595",
   "metadata": {},
   "source": [
    "### Столбец goout"
   ]
  },
  {
   "cell_type": "code",
   "execution_count": 1432,
   "id": "7af64492",
   "metadata": {
    "scrolled": false
   },
   "outputs": [
    {
     "name": "stdout",
     "output_type": "stream",
     "text": [
      "count    382.000000\n",
      "mean       3.094241\n",
      "std        1.116104\n",
      "min        1.000000\n",
      "25%        2.000000\n",
      "50%        3.000000\n",
      "75%        4.000000\n",
      "max        5.000000\n",
      "Name: goout, dtype: float64\n",
      "\n",
      "Пропущенных значений: 7\n",
      "\n",
      "Уникальные значения:\n",
      "[1.0, 2.0, 3.0, 4.0, 5.0, nan]\n",
      "\n",
      "3.0    126\n",
      "2.0    101\n",
      "4.0     81\n",
      "5.0     51\n",
      "1.0     23\n",
      "Name: goout, dtype: int64\n"
     ]
    },
    {
     "data": {
      "image/png": "[encoded data removed]",
      "text/plain": [
       "<Figure size 864x288 with 2 Axes>"
      ]
     },
     "metadata": {},
     "output_type": "display_data"
    }
   ],
   "source": [
    "# Столбец goout показывает, сколько времени ученик проводит с друзьями:\n",
    "# от 1 - очень мало до 5 - очень много\n",
    "\n",
    "show_info('goout')\n",
    "\n",
    "# Большинство учеников проводят среднее количество времени с друзьями\n",
    "# Выбросов нет \n",
    "\n",
    "# Распределение более-менее симмметричное (??)"
   ]
  },
  {
   "cell_type": "code",
   "execution_count": 1433,
   "id": "968a04bc",
   "metadata": {},
   "outputs": [],
   "source": [
    "# Есть пропущенные значения, их довольно мало, заменим их на медиану:\n",
    "\n",
    "df.goout.fillna(df.goout.median(), inplace=True)"
   ]
  },
  {
   "cell_type": "markdown",
   "id": "b496cb23",
   "metadata": {},
   "source": [
    "### Столбец health"
   ]
  },
  {
   "cell_type": "code",
   "execution_count": 1434,
   "id": "3819009a",
   "metadata": {
    "scrolled": false
   },
   "outputs": [
    {
     "name": "stdout",
     "output_type": "stream",
     "text": [
      "count    374.000000\n",
      "mean       3.529412\n",
      "std        1.402006\n",
      "min        1.000000\n",
      "25%        3.000000\n",
      "50%        4.000000\n",
      "75%        5.000000\n",
      "max        5.000000\n",
      "Name: health, dtype: float64\n",
      "\n",
      "Пропущенных значений: 15\n",
      "\n",
      "Уникальные значения:\n",
      "[1.0, 2.0, 3.0, 4.0, 5.0, nan]\n",
      "\n",
      "5.0    137\n",
      "3.0     88\n",
      "4.0     60\n",
      "1.0     47\n",
      "2.0     42\n",
      "Name: health, dtype: int64\n"
     ]
    },
    {
     "data": {
      "image/png": "[encoded data removed]",
      "text/plain": [
       "<Figure size 864x288 with 2 Axes>"
      ]
     },
     "metadata": {},
     "output_type": "display_data"
    }
   ],
   "source": [
    "# Столбец health описывает текущее состояние здоровья ученика:\n",
    "# от 1 - очень плохо до 5 - очень хорошо\n",
    "\n",
    "show_info('health')\n",
    "\n",
    "# Большинство учеников здоровы\n",
    "# Распределение несимметричное, смещённое влево\n",
    "# Есть пропущенные значения, но, если мы заменим их на медиану или моду, \n",
    "# то распределение сместится ещё больше, оставим пока так"
   ]
  },
  {
   "cell_type": "markdown",
   "id": "0cf2c6ad",
   "metadata": {},
   "source": [
    "### Столбец absences"
   ]
  },
  {
   "cell_type": "code",
   "execution_count": 1435,
   "id": "c9d2e4d2",
   "metadata": {
    "scrolled": false
   },
   "outputs": [
    {
     "name": "stdout",
     "output_type": "stream",
     "text": [
      "count    378.000000\n",
      "mean       7.320106\n",
      "std       23.615525\n",
      "min        0.000000\n",
      "25%        0.000000\n",
      "50%        4.000000\n",
      "75%        8.000000\n",
      "max      385.000000\n",
      "Name: absences, dtype: float64\n",
      "\n",
      "Пропущенных значений: 11\n",
      "\n",
      "Уникальные значения:\n",
      "[0.0, 2.0, 3.0, 4.0, 5.0, 6.0, 7.0, 8.0, 9.0, 10.0, 12.0, 13.0, 14.0, 16.0, nan, 1.0, 11.0, 15.0, 17.0, 18.0, 19.0, 20.0, 21.0, 22.0, 23.0, 24.0, 25.0, 26.0, 28.0, 30.0, 38.0, 40.0, 54.0, 56.0, 75.0, 212.0, 385.0]\n",
      "\n",
      "0.0      110\n",
      "2.0       60\n",
      "4.0       52\n",
      "6.0       30\n",
      "8.0       20\n",
      "10.0      17\n",
      "14.0      12\n",
      "12.0      12\n",
      "16.0       7\n",
      "3.0        7\n",
      "7.0        6\n",
      "18.0       5\n",
      "5.0        5\n",
      "20.0       4\n",
      "9.0        3\n",
      "22.0       3\n",
      "1.0        3\n",
      "13.0       2\n",
      "15.0       2\n",
      "11.0       2\n",
      "40.0       1\n",
      "38.0       1\n",
      "56.0       1\n",
      "23.0       1\n",
      "24.0       1\n",
      "25.0       1\n",
      "385.0      1\n",
      "17.0       1\n",
      "75.0       1\n",
      "21.0       1\n",
      "212.0      1\n",
      "28.0       1\n",
      "19.0       1\n",
      "26.0       1\n",
      "30.0       1\n",
      "54.0       1\n",
      "Name: absences, dtype: int64\n"
     ]
    },
    {
     "data": {
      "image/png": "[encoded data removed]",
      "text/plain": [
       "<Figure size 864x288 with 2 Axes>"
      ]
     },
     "metadata": {},
     "output_type": "display_data"
    }
   ],
   "source": [
    "# Столбец absences показывает количество пропущенных учеником занятий\n",
    "\n",
    "show_info('absences')\n",
    "\n",
    "# Большинство учеников не пропустили ни одного занятия"
   ]
  },
  {
   "cell_type": "code",
   "execution_count": 1436,
   "id": "a7595a85",
   "metadata": {},
   "outputs": [],
   "source": [
    "# Заменим пропущенные значения на 0 (наиболее частое):\n",
    "\n",
    "df.absences.fillna(0, inplace=True)"
   ]
  },
  {
   "cell_type": "code",
   "execution_count": 1437,
   "id": "5d06b0f1",
   "metadata": {},
   "outputs": [
    {
     "name": "stdout",
     "output_type": "stream",
     "text": [
      "25-й перцентиль: 0.0, 75-й перцентиль: 8.0, IQR: 8.0, Границы выбросов: [-12.0, 20.0].\n"
     ]
    },
    {
     "data": {
      "image/png": "[encoded data removed]",
      "text/plain": [
       "<Figure size 432x288 with 1 Axes>"
      ]
     },
     "metadata": {},
     "output_type": "display_data"
    }
   ],
   "source": [
    "# Очевидно, что есть выбросы\n",
    "# Можем либо воспользоваться формулой интерквартильного расстояния, либо \n",
    "# задать максимальное количество пропусков, например 100 \n",
    "# (в идеале хорошо бы знать тотальное колчество уроков и взять это число)\n",
    "# Сравним эти два способа:\n",
    "\n",
    "IQR_vs_logic('absences', 100)"
   ]
  },
  {
   "cell_type": "code",
   "execution_count": 1438,
   "id": "cf223e9d",
   "metadata": {},
   "outputs": [
    {
     "name": "stdout",
     "output_type": "stream",
     "text": [
      "25-й перцентиль: 0.0, 75-й перцентиль: 8.0, IQR: 8.0, Границы выбросов: [-12.0, 20.0].\n"
     ]
    },
    {
     "data": {
      "image/png": "[encoded data removed]",
      "text/plain": [
       "<Figure size 432x288 with 1 Axes>"
      ]
     },
     "metadata": {},
     "output_type": "display_data"
    }
   ],
   "source": [
    "# Попробуем ещё раз с более низким лимитом пропусков:\n",
    "\n",
    "IQR_vs_logic('absences', 60)"
   ]
  },
  {
   "cell_type": "code",
   "execution_count": 1439,
   "id": "040e34b1",
   "metadata": {},
   "outputs": [],
   "source": [
    "# Мне кажется более логичным последний вариант с лимитом в 60 пропусков\n",
    "# Данных у нас довольно мало, так что не будем просто удалять выбросы\n",
    "# Так как все оставшиеся выбросы в бóльшую сторону, то можем заменить их \n",
    "# на 75-й перцентиль:\n",
    "\n",
    "df.absences[df.absences > 60] = df.absences.quantile(0.75)"
   ]
  },
  {
   "cell_type": "markdown",
   "id": "b6dc3356",
   "metadata": {},
   "source": [
    "## Обработанный датасет"
   ]
  },
  {
   "cell_type": "code",
   "execution_count": 1361,
   "id": "fc856b0e",
   "metadata": {
    "scrolled": false
   },
   "outputs": [
    {
     "name": "stdout",
     "output_type": "stream",
     "text": [
      "Размер таблицы: (389, 29)\n",
      "\n",
      "<class 'pandas.core.frame.DataFrame'>\n",
      "Int64Index: 389 entries, 0 to 394\n",
      "Data columns (total 29 columns):\n",
      " #   Column              Non-Null Count  Dtype  \n",
      "---  ------              --------------  -----  \n",
      " 0   school              389 non-null    object \n",
      " 1   sex                 389 non-null    object \n",
      " 2   age                 389 non-null    int64  \n",
      " 3   address             374 non-null    object \n",
      " 4   famsize             362 non-null    object \n",
      " 5   Pstatus             344 non-null    object \n",
      " 6   Medu                386 non-null    float64\n",
      " 7   Fedu                365 non-null    float64\n",
      " 8   Mjob                389 non-null    object \n",
      " 9   Fjob                389 non-null    object \n",
      " 10  reason              389 non-null    object \n",
      " 11  guardian            389 non-null    object \n",
      " 12  traveltime          361 non-null    float64\n",
      " 13  studytime           382 non-null    float64\n",
      " 14  schoolsup           389 non-null    object \n",
      " 15  famsup              351 non-null    object \n",
      " 16  paid                350 non-null    object \n",
      " 17  activities          375 non-null    object \n",
      " 18  nursery             389 non-null    object \n",
      " 19  studytime_granular  382 non-null    float64\n",
      " 20  higher              389 non-null    object \n",
      " 21  internet            355 non-null    object \n",
      " 22  romantic            358 non-null    object \n",
      " 23  famrel              362 non-null    float64\n",
      " 24  freetime            389 non-null    float64\n",
      " 25  goout               389 non-null    float64\n",
      " 26  health              374 non-null    float64\n",
      " 27  absences            389 non-null    float64\n",
      " 28  score               389 non-null    float64\n",
      "dtypes: float64(11), int64(1), object(17)\n",
      "memory usage: 91.2+ KB\n",
      "None\n"
     ]
    }
   ],
   "source": [
    "# Так как мы удалили некоторые строки, нужно обновить индексы:\n",
    "\n",
    "df.reset_index()\n",
    "\n",
    "# В итоге у нас получилась таблица с 29 столбцами и 389 строками\n",
    "\n",
    "print(f'Размер таблицы: {df.shape}\\n')\n",
    "print(df.info())"
   ]
  },
  {
   "cell_type": "markdown",
   "id": "45051e8a",
   "metadata": {},
   "source": [
    "<span style='color:darkblue;font-size:4.2mm;background:#DAFCFF'>Выводы:\n",
    "- В данных достаточно мало пустых значений, в каждом столбце не более 10% пропущенных значений.\n",
    "- Выбросы найдены только в столбце 'absenses' (пропуски) , что позволяет сделать вывод о том, что данные достаточно чистые.\n",
    "- Остальные \"выбросы\" не считаются таковыми, так как находятся в рамках заданного диапазона.</span>"
   ]
  },
  {
   "cell_type": "markdown",
   "id": "b85a20f1",
   "metadata": {},
   "source": [
    "## Корреляционный анализ"
   ]
  },
  {
   "cell_type": "code",
   "execution_count": 1293,
   "id": "3dcdc6b8",
   "metadata": {},
   "outputs": [
    {
     "data": {
      "text/plain": [
       "<seaborn.axisgrid.PairGrid at 0x7fc8fedeef70>"
      ]
     },
     "execution_count": 1293,
     "metadata": {},
     "output_type": "execute_result"
    },
    {
     "data": {
      "image/png": "[encoded data removed]",
      "text/plain": [
       "<Figure size 2160x2160 with 156 Axes>"
      ]
     },
     "metadata": {},
     "output_type": "display_data"
    }
   ],
   "source": [
    "# Выясним, какие столбцы коррелируют с оценкой по госэкзамену по математике. \n",
    "# Так мы поймём, какие параметры оставить для модели, а какие — исключить.\n",
    "# Анализ корреляций проводится только для числовых столбцов\n",
    "\n",
    "# Для начала посмотрим на общую картину:\n",
    "\n",
    "sns.pairplot(df)"
   ]
  },
  {
   "cell_type": "code",
   "execution_count": 1294,
   "id": "20ec4ac8",
   "metadata": {},
   "outputs": [
    {
     "data": {
      "text/html": [
       "<div>\n",
       "<style scoped>\n",
       "    .dataframe tbody tr th:only-of-type {\n",
       "        vertical-align: middle;\n",
       "    }\n",
       "\n",
       "    .dataframe tbody tr th {\n",
       "        vertical-align: top;\n",
       "    }\n",
       "\n",
       "    .dataframe thead th {\n",
       "        text-align: right;\n",
       "    }\n",
       "</style>\n",
       "<table border=\"1\" class=\"dataframe\">\n",
       "  <thead>\n",
       "    <tr style=\"text-align: right;\">\n",
       "      <th></th>\n",
       "      <th>age</th>\n",
       "      <th>Medu</th>\n",
       "      <th>Fedu</th>\n",
       "      <th>traveltime</th>\n",
       "      <th>studytime</th>\n",
       "      <th>studytime_granular</th>\n",
       "      <th>famrel</th>\n",
       "      <th>freetime</th>\n",
       "      <th>goout</th>\n",
       "      <th>health</th>\n",
       "      <th>absences</th>\n",
       "      <th>score</th>\n",
       "    </tr>\n",
       "  </thead>\n",
       "  <tbody>\n",
       "    <tr>\n",
       "      <th>age</th>\n",
       "      <td>1.000000</td>\n",
       "      <td>-0.146736</td>\n",
       "      <td>-0.152148</td>\n",
       "      <td>0.073146</td>\n",
       "      <td>-0.018227</td>\n",
       "      <td>0.018227</td>\n",
       "      <td>0.058768</td>\n",
       "      <td>0.013994</td>\n",
       "      <td>0.121057</td>\n",
       "      <td>-0.068103</td>\n",
       "      <td>0.161865</td>\n",
       "      <td>-0.155726</td>\n",
       "    </tr>\n",
       "    <tr>\n",
       "      <th>Medu</th>\n",
       "      <td>-0.146736</td>\n",
       "      <td>1.000000</td>\n",
       "      <td>0.621981</td>\n",
       "      <td>-0.165838</td>\n",
       "      <td>0.081032</td>\n",
       "      <td>-0.081032</td>\n",
       "      <td>-0.003697</td>\n",
       "      <td>0.037114</td>\n",
       "      <td>0.071539</td>\n",
       "      <td>-0.048331</td>\n",
       "      <td>0.104308</td>\n",
       "      <td>0.213349</td>\n",
       "    </tr>\n",
       "    <tr>\n",
       "      <th>Fedu</th>\n",
       "      <td>-0.152148</td>\n",
       "      <td>0.621981</td>\n",
       "      <td>1.000000</td>\n",
       "      <td>-0.132036</td>\n",
       "      <td>0.017306</td>\n",
       "      <td>-0.017306</td>\n",
       "      <td>-0.016791</td>\n",
       "      <td>-0.015669</td>\n",
       "      <td>0.050636</td>\n",
       "      <td>0.018624</td>\n",
       "      <td>0.045213</td>\n",
       "      <td>0.130923</td>\n",
       "    </tr>\n",
       "    <tr>\n",
       "      <th>traveltime</th>\n",
       "      <td>0.073146</td>\n",
       "      <td>-0.165838</td>\n",
       "      <td>-0.132036</td>\n",
       "      <td>1.000000</td>\n",
       "      <td>-0.105910</td>\n",
       "      <td>0.105910</td>\n",
       "      <td>-0.032413</td>\n",
       "      <td>-0.026857</td>\n",
       "      <td>0.033661</td>\n",
       "      <td>-0.011724</td>\n",
       "      <td>-0.028270</td>\n",
       "      <td>-0.070559</td>\n",
       "    </tr>\n",
       "    <tr>\n",
       "      <th>studytime</th>\n",
       "      <td>-0.018227</td>\n",
       "      <td>0.081032</td>\n",
       "      <td>0.017306</td>\n",
       "      <td>-0.105910</td>\n",
       "      <td>1.000000</td>\n",
       "      <td>-1.000000</td>\n",
       "      <td>0.039899</td>\n",
       "      <td>-0.123897</td>\n",
       "      <td>-0.054087</td>\n",
       "      <td>-0.079180</td>\n",
       "      <td>-0.067867</td>\n",
       "      <td>0.115741</td>\n",
       "    </tr>\n",
       "    <tr>\n",
       "      <th>studytime_granular</th>\n",
       "      <td>0.018227</td>\n",
       "      <td>-0.081032</td>\n",
       "      <td>-0.017306</td>\n",
       "      <td>0.105910</td>\n",
       "      <td>-1.000000</td>\n",
       "      <td>1.000000</td>\n",
       "      <td>-0.039899</td>\n",
       "      <td>0.123897</td>\n",
       "      <td>0.054087</td>\n",
       "      <td>0.079180</td>\n",
       "      <td>0.067867</td>\n",
       "      <td>-0.115741</td>\n",
       "    </tr>\n",
       "    <tr>\n",
       "      <th>famrel</th>\n",
       "      <td>0.058768</td>\n",
       "      <td>-0.003697</td>\n",
       "      <td>-0.016791</td>\n",
       "      <td>-0.032413</td>\n",
       "      <td>0.039899</td>\n",
       "      <td>-0.039899</td>\n",
       "      <td>1.000000</td>\n",
       "      <td>0.170128</td>\n",
       "      <td>0.072623</td>\n",
       "      <td>0.089074</td>\n",
       "      <td>-0.045807</td>\n",
       "      <td>0.055305</td>\n",
       "    </tr>\n",
       "    <tr>\n",
       "      <th>freetime</th>\n",
       "      <td>0.013994</td>\n",
       "      <td>0.037114</td>\n",
       "      <td>-0.015669</td>\n",
       "      <td>-0.026857</td>\n",
       "      <td>-0.123897</td>\n",
       "      <td>0.123897</td>\n",
       "      <td>0.170128</td>\n",
       "      <td>1.000000</td>\n",
       "      <td>0.294450</td>\n",
       "      <td>0.062953</td>\n",
       "      <td>-0.023911</td>\n",
       "      <td>0.017481</td>\n",
       "    </tr>\n",
       "    <tr>\n",
       "      <th>goout</th>\n",
       "      <td>0.121057</td>\n",
       "      <td>0.071539</td>\n",
       "      <td>0.050636</td>\n",
       "      <td>0.033661</td>\n",
       "      <td>-0.054087</td>\n",
       "      <td>0.054087</td>\n",
       "      <td>0.072623</td>\n",
       "      <td>0.294450</td>\n",
       "      <td>1.000000</td>\n",
       "      <td>-0.017392</td>\n",
       "      <td>0.076525</td>\n",
       "      <td>-0.127742</td>\n",
       "    </tr>\n",
       "    <tr>\n",
       "      <th>health</th>\n",
       "      <td>-0.068103</td>\n",
       "      <td>-0.048331</td>\n",
       "      <td>0.018624</td>\n",
       "      <td>-0.011724</td>\n",
       "      <td>-0.079180</td>\n",
       "      <td>0.079180</td>\n",
       "      <td>0.089074</td>\n",
       "      <td>0.062953</td>\n",
       "      <td>-0.017392</td>\n",
       "      <td>1.000000</td>\n",
       "      <td>-0.044464</td>\n",
       "      <td>-0.070460</td>\n",
       "    </tr>\n",
       "    <tr>\n",
       "      <th>absences</th>\n",
       "      <td>0.161865</td>\n",
       "      <td>0.104308</td>\n",
       "      <td>0.045213</td>\n",
       "      <td>-0.028270</td>\n",
       "      <td>-0.067867</td>\n",
       "      <td>0.067867</td>\n",
       "      <td>-0.045807</td>\n",
       "      <td>-0.023911</td>\n",
       "      <td>0.076525</td>\n",
       "      <td>-0.044464</td>\n",
       "      <td>1.000000</td>\n",
       "      <td>0.035027</td>\n",
       "    </tr>\n",
       "    <tr>\n",
       "      <th>score</th>\n",
       "      <td>-0.155726</td>\n",
       "      <td>0.213349</td>\n",
       "      <td>0.130923</td>\n",
       "      <td>-0.070559</td>\n",
       "      <td>0.115741</td>\n",
       "      <td>-0.115741</td>\n",
       "      <td>0.055305</td>\n",
       "      <td>0.017481</td>\n",
       "      <td>-0.127742</td>\n",
       "      <td>-0.070460</td>\n",
       "      <td>0.035027</td>\n",
       "      <td>1.000000</td>\n",
       "    </tr>\n",
       "  </tbody>\n",
       "</table>\n",
       "</div>"
      ],
      "text/plain": [
       "                         age      Medu      Fedu  traveltime  studytime  \\\n",
       "age                 1.000000 -0.146736 -0.152148    0.073146  -0.018227   \n",
       "Medu               -0.146736  1.000000  0.621981   -0.165838   0.081032   \n",
       "Fedu               -0.152148  0.621981  1.000000   -0.132036   0.017306   \n",
       "traveltime          0.073146 -0.165838 -0.132036    1.000000  -0.105910   \n",
       "studytime          -0.018227  0.081032  0.017306   -0.105910   1.000000   \n",
       "studytime_granular  0.018227 -0.081032 -0.017306    0.105910  -1.000000   \n",
       "famrel              0.058768 -0.003697 -0.016791   -0.032413   0.039899   \n",
       "freetime            0.013994  0.037114 -0.015669   -0.026857  -0.123897   \n",
       "goout               0.121057  0.071539  0.050636    0.033661  -0.054087   \n",
       "health             -0.068103 -0.048331  0.018624   -0.011724  -0.079180   \n",
       "absences            0.161865  0.104308  0.045213   -0.028270  -0.067867   \n",
       "score              -0.155726  0.213349  0.130923   -0.070559   0.115741   \n",
       "\n",
       "                    studytime_granular    famrel  freetime     goout  \\\n",
       "age                           0.018227  0.058768  0.013994  0.121057   \n",
       "Medu                         -0.081032 -0.003697  0.037114  0.071539   \n",
       "Fedu                         -0.017306 -0.016791 -0.015669  0.050636   \n",
       "traveltime                    0.105910 -0.032413 -0.026857  0.033661   \n",
       "studytime                    -1.000000  0.039899 -0.123897 -0.054087   \n",
       "studytime_granular            1.000000 -0.039899  0.123897  0.054087   \n",
       "famrel                       -0.039899  1.000000  0.170128  0.072623   \n",
       "freetime                      0.123897  0.170128  1.000000  0.294450   \n",
       "goout                         0.054087  0.072623  0.294450  1.000000   \n",
       "health                        0.079180  0.089074  0.062953 -0.017392   \n",
       "absences                      0.067867 -0.045807 -0.023911  0.076525   \n",
       "score                        -0.115741  0.055305  0.017481 -0.127742   \n",
       "\n",
       "                      health  absences     score  \n",
       "age                -0.068103  0.161865 -0.155726  \n",
       "Medu               -0.048331  0.104308  0.213349  \n",
       "Fedu                0.018624  0.045213  0.130923  \n",
       "traveltime         -0.011724 -0.028270 -0.070559  \n",
       "studytime          -0.079180 -0.067867  0.115741  \n",
       "studytime_granular  0.079180  0.067867 -0.115741  \n",
       "famrel              0.089074 -0.045807  0.055305  \n",
       "freetime            0.062953 -0.023911  0.017481  \n",
       "goout              -0.017392  0.076525 -0.127742  \n",
       "health              1.000000 -0.044464 -0.070460  \n",
       "absences           -0.044464  1.000000  0.035027  \n",
       "score              -0.070460  0.035027  1.000000  "
      ]
     },
     "execution_count": 1294,
     "metadata": {},
     "output_type": "execute_result"
    }
   ],
   "source": [
    "# Числовых столбцов слишком много, поэтому по получившимся графикам сложно \n",
    "# что-либо понять. Лучше посмотрим на матрицу корреляций:\n",
    "\n",
    "df.corr()"
   ]
  },
  {
   "cell_type": "code",
   "execution_count": 1295,
   "id": "7a44182b",
   "metadata": {},
   "outputs": [
    {
     "data": {
      "image/png": "[encoded data removed]",
      "text/plain": [
       "<Figure size 1080x864 with 2 Axes>"
      ]
     },
     "metadata": {},
     "output_type": "display_data"
    }
   ],
   "source": [
    "# Постороим график по матрице корреляций, чтобы наглядно увидеть связи:\n",
    "\n",
    "f, ax = plt.subplots(figsize=(15, 12))\n",
    "ax = sns.heatmap(df.corr(), square=True, annot=True, cmap='winter_r')"
   ]
  },
  {
   "cell_type": "code",
   "execution_count": 1440,
   "id": "75696b72",
   "metadata": {},
   "outputs": [],
   "source": [
    "# Во-первых, столбцы studytime и studytime_granular полность отрицательно \n",
    "# коррелированы. Поэтому один из них можно удалить\n",
    "# Оставим studytime, так как он имеет положительную корреляцию со score:\n",
    "\n",
    "df = df.drop(columns='studytime_granular')"
   ]
  },
  {
   "cell_type": "code",
   "execution_count": 1441,
   "id": "91c278c9",
   "metadata": {},
   "outputs": [
    {
     "data": {
      "text/html": [
       "<div>\n",
       "<style scoped>\n",
       "    .dataframe tbody tr th:only-of-type {\n",
       "        vertical-align: middle;\n",
       "    }\n",
       "\n",
       "    .dataframe tbody tr th {\n",
       "        vertical-align: top;\n",
       "    }\n",
       "\n",
       "    .dataframe thead th {\n",
       "        text-align: right;\n",
       "    }\n",
       "</style>\n",
       "<table border=\"1\" class=\"dataframe\">\n",
       "  <thead>\n",
       "    <tr style=\"text-align: right;\">\n",
       "      <th></th>\n",
       "      <th>school</th>\n",
       "      <th>sex</th>\n",
       "      <th>age</th>\n",
       "      <th>address</th>\n",
       "      <th>famsize</th>\n",
       "      <th>Pstatus</th>\n",
       "      <th>Medu</th>\n",
       "      <th>Fedu</th>\n",
       "      <th>Mjob</th>\n",
       "      <th>Fjob</th>\n",
       "      <th>reason</th>\n",
       "      <th>guardian</th>\n",
       "      <th>traveltime</th>\n",
       "      <th>studytime</th>\n",
       "      <th>schoolsup</th>\n",
       "      <th>famsup</th>\n",
       "      <th>paid</th>\n",
       "      <th>activities</th>\n",
       "      <th>nursery</th>\n",
       "      <th>higher</th>\n",
       "      <th>internet</th>\n",
       "      <th>romantic</th>\n",
       "      <th>famrel</th>\n",
       "      <th>freetime</th>\n",
       "      <th>goout</th>\n",
       "      <th>health</th>\n",
       "      <th>absences</th>\n",
       "      <th>score</th>\n",
       "    </tr>\n",
       "  </thead>\n",
       "  <tbody>\n",
       "    <tr>\n",
       "      <th>126</th>\n",
       "      <td>GP</td>\n",
       "      <td>F</td>\n",
       "      <td>15</td>\n",
       "      <td>U</td>\n",
       "      <td>LE3</td>\n",
       "      <td>A</td>\n",
       "      <td>3.0</td>\n",
       "      <td>4.0</td>\n",
       "      <td>other</td>\n",
       "      <td>other</td>\n",
       "      <td>home</td>\n",
       "      <td>mother</td>\n",
       "      <td>1.0</td>\n",
       "      <td>2.0</td>\n",
       "      <td>yes</td>\n",
       "      <td>no</td>\n",
       "      <td>no</td>\n",
       "      <td>NaN</td>\n",
       "      <td>yes</td>\n",
       "      <td>yes</td>\n",
       "      <td>yes</td>\n",
       "      <td>yes</td>\n",
       "      <td>5.0</td>\n",
       "      <td>3.0</td>\n",
       "      <td>2.0</td>\n",
       "      <td>1.0</td>\n",
       "      <td>0.0</td>\n",
       "      <td>55.0</td>\n",
       "    </tr>\n",
       "    <tr>\n",
       "      <th>191</th>\n",
       "      <td>GP</td>\n",
       "      <td>F</td>\n",
       "      <td>17</td>\n",
       "      <td>U</td>\n",
       "      <td>GT3</td>\n",
       "      <td>T</td>\n",
       "      <td>1.0</td>\n",
       "      <td>1.0</td>\n",
       "      <td>at_home</td>\n",
       "      <td>services</td>\n",
       "      <td>course</td>\n",
       "      <td>mother</td>\n",
       "      <td>1.0</td>\n",
       "      <td>2.0</td>\n",
       "      <td>no</td>\n",
       "      <td>no</td>\n",
       "      <td>no</td>\n",
       "      <td>yes</td>\n",
       "      <td>yes</td>\n",
       "      <td>yes</td>\n",
       "      <td>NaN</td>\n",
       "      <td>no</td>\n",
       "      <td>5.0</td>\n",
       "      <td>3.0</td>\n",
       "      <td>3.0</td>\n",
       "      <td>3.0</td>\n",
       "      <td>0.0</td>\n",
       "      <td>45.0</td>\n",
       "    </tr>\n",
       "    <tr>\n",
       "      <th>221</th>\n",
       "      <td>GP</td>\n",
       "      <td>F</td>\n",
       "      <td>17</td>\n",
       "      <td>U</td>\n",
       "      <td>NaN</td>\n",
       "      <td>T</td>\n",
       "      <td>1.0</td>\n",
       "      <td>1.0</td>\n",
       "      <td>at_home</td>\n",
       "      <td>other</td>\n",
       "      <td>reputation</td>\n",
       "      <td>mother</td>\n",
       "      <td>1.0</td>\n",
       "      <td>3.0</td>\n",
       "      <td>no</td>\n",
       "      <td>yes</td>\n",
       "      <td>no</td>\n",
       "      <td>yes</td>\n",
       "      <td>yes</td>\n",
       "      <td>yes</td>\n",
       "      <td>no</td>\n",
       "      <td>yes</td>\n",
       "      <td>4.0</td>\n",
       "      <td>3.0</td>\n",
       "      <td>3.0</td>\n",
       "      <td>5.0</td>\n",
       "      <td>0.0</td>\n",
       "      <td>0.0</td>\n",
       "    </tr>\n",
       "    <tr>\n",
       "      <th>357</th>\n",
       "      <td>MS</td>\n",
       "      <td>F</td>\n",
       "      <td>17</td>\n",
       "      <td>U</td>\n",
       "      <td>LE3</td>\n",
       "      <td>NaN</td>\n",
       "      <td>3.0</td>\n",
       "      <td>2.0</td>\n",
       "      <td>services</td>\n",
       "      <td>other</td>\n",
       "      <td>reputation</td>\n",
       "      <td>mother</td>\n",
       "      <td>2.0</td>\n",
       "      <td>2.0</td>\n",
       "      <td>no</td>\n",
       "      <td>no</td>\n",
       "      <td>no</td>\n",
       "      <td>no</td>\n",
       "      <td>yes</td>\n",
       "      <td>yes</td>\n",
       "      <td>no</td>\n",
       "      <td>yes</td>\n",
       "      <td>1.0</td>\n",
       "      <td>2.0</td>\n",
       "      <td>3.0</td>\n",
       "      <td>5.0</td>\n",
       "      <td>2.0</td>\n",
       "      <td>55.0</td>\n",
       "    </tr>\n",
       "    <tr>\n",
       "      <th>380</th>\n",
       "      <td>MS</td>\n",
       "      <td>M</td>\n",
       "      <td>18</td>\n",
       "      <td>U</td>\n",
       "      <td>GT3</td>\n",
       "      <td>T</td>\n",
       "      <td>4.0</td>\n",
       "      <td>4.0</td>\n",
       "      <td>teacher</td>\n",
       "      <td>teacher</td>\n",
       "      <td>home</td>\n",
       "      <td>father</td>\n",
       "      <td>1.0</td>\n",
       "      <td>2.0</td>\n",
       "      <td>no</td>\n",
       "      <td>no</td>\n",
       "      <td>yes</td>\n",
       "      <td>yes</td>\n",
       "      <td>no</td>\n",
       "      <td>yes</td>\n",
       "      <td>yes</td>\n",
       "      <td>NaN</td>\n",
       "      <td>3.0</td>\n",
       "      <td>2.0</td>\n",
       "      <td>4.0</td>\n",
       "      <td>2.0</td>\n",
       "      <td>4.0</td>\n",
       "      <td>70.0</td>\n",
       "    </tr>\n",
       "    <tr>\n",
       "      <th>303</th>\n",
       "      <td>GP</td>\n",
       "      <td>F</td>\n",
       "      <td>17</td>\n",
       "      <td>U</td>\n",
       "      <td>GT3</td>\n",
       "      <td>T</td>\n",
       "      <td>3.0</td>\n",
       "      <td>2.0</td>\n",
       "      <td>health</td>\n",
       "      <td>other</td>\n",
       "      <td>reputation</td>\n",
       "      <td>father</td>\n",
       "      <td>1.0</td>\n",
       "      <td>4.0</td>\n",
       "      <td>no</td>\n",
       "      <td>yes</td>\n",
       "      <td>yes</td>\n",
       "      <td>yes</td>\n",
       "      <td>no</td>\n",
       "      <td>yes</td>\n",
       "      <td>yes</td>\n",
       "      <td>no</td>\n",
       "      <td>5.0</td>\n",
       "      <td>2.0</td>\n",
       "      <td>2.0</td>\n",
       "      <td>5.0</td>\n",
       "      <td>0.0</td>\n",
       "      <td>90.0</td>\n",
       "    </tr>\n",
       "    <tr>\n",
       "      <th>250</th>\n",
       "      <td>GP</td>\n",
       "      <td>M</td>\n",
       "      <td>18</td>\n",
       "      <td>U</td>\n",
       "      <td>GT3</td>\n",
       "      <td>T</td>\n",
       "      <td>3.0</td>\n",
       "      <td>2.0</td>\n",
       "      <td>services</td>\n",
       "      <td>other</td>\n",
       "      <td>course</td>\n",
       "      <td>mother</td>\n",
       "      <td>2.0</td>\n",
       "      <td>1.0</td>\n",
       "      <td>no</td>\n",
       "      <td>no</td>\n",
       "      <td>no</td>\n",
       "      <td>no</td>\n",
       "      <td>yes</td>\n",
       "      <td>yes</td>\n",
       "      <td>yes</td>\n",
       "      <td>no</td>\n",
       "      <td>4.0</td>\n",
       "      <td>4.0</td>\n",
       "      <td>5.0</td>\n",
       "      <td>5.0</td>\n",
       "      <td>0.0</td>\n",
       "      <td>40.0</td>\n",
       "    </tr>\n",
       "    <tr>\n",
       "      <th>381</th>\n",
       "      <td>MS</td>\n",
       "      <td>M</td>\n",
       "      <td>18</td>\n",
       "      <td>R</td>\n",
       "      <td>GT3</td>\n",
       "      <td>T</td>\n",
       "      <td>2.0</td>\n",
       "      <td>1.0</td>\n",
       "      <td>other</td>\n",
       "      <td>other</td>\n",
       "      <td>other</td>\n",
       "      <td>mother</td>\n",
       "      <td>2.0</td>\n",
       "      <td>1.0</td>\n",
       "      <td>no</td>\n",
       "      <td>no</td>\n",
       "      <td>no</td>\n",
       "      <td>yes</td>\n",
       "      <td>no</td>\n",
       "      <td>yes</td>\n",
       "      <td>yes</td>\n",
       "      <td>yes</td>\n",
       "      <td>4.0</td>\n",
       "      <td>4.0</td>\n",
       "      <td>3.0</td>\n",
       "      <td>5.0</td>\n",
       "      <td>5.0</td>\n",
       "      <td>35.0</td>\n",
       "    </tr>\n",
       "    <tr>\n",
       "      <th>294</th>\n",
       "      <td>GP</td>\n",
       "      <td>M</td>\n",
       "      <td>18</td>\n",
       "      <td>R</td>\n",
       "      <td>LE3</td>\n",
       "      <td>T</td>\n",
       "      <td>3.0</td>\n",
       "      <td>2.0</td>\n",
       "      <td>services</td>\n",
       "      <td>other</td>\n",
       "      <td>reputation</td>\n",
       "      <td>mother</td>\n",
       "      <td>2.0</td>\n",
       "      <td>3.0</td>\n",
       "      <td>no</td>\n",
       "      <td>yes</td>\n",
       "      <td>yes</td>\n",
       "      <td>yes</td>\n",
       "      <td>yes</td>\n",
       "      <td>yes</td>\n",
       "      <td>yes</td>\n",
       "      <td>no</td>\n",
       "      <td>5.0</td>\n",
       "      <td>4.0</td>\n",
       "      <td>2.0</td>\n",
       "      <td>4.0</td>\n",
       "      <td>8.0</td>\n",
       "      <td>70.0</td>\n",
       "    </tr>\n",
       "    <tr>\n",
       "      <th>98</th>\n",
       "      <td>GP</td>\n",
       "      <td>F</td>\n",
       "      <td>16</td>\n",
       "      <td>U</td>\n",
       "      <td>GT3</td>\n",
       "      <td>T</td>\n",
       "      <td>4.0</td>\n",
       "      <td>4.0</td>\n",
       "      <td>other</td>\n",
       "      <td>other</td>\n",
       "      <td>reputation</td>\n",
       "      <td>other</td>\n",
       "      <td>1.0</td>\n",
       "      <td>1.0</td>\n",
       "      <td>no</td>\n",
       "      <td>NaN</td>\n",
       "      <td>no</td>\n",
       "      <td>yes</td>\n",
       "      <td>no</td>\n",
       "      <td>yes</td>\n",
       "      <td>NaN</td>\n",
       "      <td>no</td>\n",
       "      <td>5.0</td>\n",
       "      <td>3.0</td>\n",
       "      <td>4.0</td>\n",
       "      <td>1.0</td>\n",
       "      <td>6.0</td>\n",
       "      <td>70.0</td>\n",
       "    </tr>\n",
       "    <tr>\n",
       "      <th>180</th>\n",
       "      <td>GP</td>\n",
       "      <td>M</td>\n",
       "      <td>16</td>\n",
       "      <td>U</td>\n",
       "      <td>GT3</td>\n",
       "      <td>T</td>\n",
       "      <td>4.0</td>\n",
       "      <td>NaN</td>\n",
       "      <td>teacher</td>\n",
       "      <td>other</td>\n",
       "      <td>home</td>\n",
       "      <td>mother</td>\n",
       "      <td>1.0</td>\n",
       "      <td>2.0</td>\n",
       "      <td>no</td>\n",
       "      <td>NaN</td>\n",
       "      <td>yes</td>\n",
       "      <td>yes</td>\n",
       "      <td>yes</td>\n",
       "      <td>yes</td>\n",
       "      <td>yes</td>\n",
       "      <td>no</td>\n",
       "      <td>3.0</td>\n",
       "      <td>4.0</td>\n",
       "      <td>3.0</td>\n",
       "      <td>3.0</td>\n",
       "      <td>10.0</td>\n",
       "      <td>40.0</td>\n",
       "    </tr>\n",
       "    <tr>\n",
       "      <th>315</th>\n",
       "      <td>GP</td>\n",
       "      <td>F</td>\n",
       "      <td>19</td>\n",
       "      <td>R</td>\n",
       "      <td>GT3</td>\n",
       "      <td>T</td>\n",
       "      <td>2.0</td>\n",
       "      <td>3.0</td>\n",
       "      <td>other</td>\n",
       "      <td>other</td>\n",
       "      <td>reputation</td>\n",
       "      <td>other</td>\n",
       "      <td>1.0</td>\n",
       "      <td>3.0</td>\n",
       "      <td>no</td>\n",
       "      <td>no</td>\n",
       "      <td>no</td>\n",
       "      <td>no</td>\n",
       "      <td>yes</td>\n",
       "      <td>yes</td>\n",
       "      <td>yes</td>\n",
       "      <td>yes</td>\n",
       "      <td>4.0</td>\n",
       "      <td>1.0</td>\n",
       "      <td>2.0</td>\n",
       "      <td>3.0</td>\n",
       "      <td>40.0</td>\n",
       "      <td>55.0</td>\n",
       "    </tr>\n",
       "    <tr>\n",
       "      <th>228</th>\n",
       "      <td>GP</td>\n",
       "      <td>M</td>\n",
       "      <td>18</td>\n",
       "      <td>U</td>\n",
       "      <td>NaN</td>\n",
       "      <td>T</td>\n",
       "      <td>2.0</td>\n",
       "      <td>1.0</td>\n",
       "      <td>at_home</td>\n",
       "      <td>other</td>\n",
       "      <td>course</td>\n",
       "      <td>mother</td>\n",
       "      <td>4.0</td>\n",
       "      <td>2.0</td>\n",
       "      <td>yes</td>\n",
       "      <td>yes</td>\n",
       "      <td>yes</td>\n",
       "      <td>yes</td>\n",
       "      <td>yes</td>\n",
       "      <td>yes</td>\n",
       "      <td>yes</td>\n",
       "      <td>yes</td>\n",
       "      <td>4.0</td>\n",
       "      <td>3.0</td>\n",
       "      <td>2.0</td>\n",
       "      <td>3.0</td>\n",
       "      <td>14.0</td>\n",
       "      <td>45.0</td>\n",
       "    </tr>\n",
       "    <tr>\n",
       "      <th>309</th>\n",
       "      <td>GP</td>\n",
       "      <td>F</td>\n",
       "      <td>19</td>\n",
       "      <td>U</td>\n",
       "      <td>LE3</td>\n",
       "      <td>T</td>\n",
       "      <td>1.0</td>\n",
       "      <td>1.0</td>\n",
       "      <td>at_home</td>\n",
       "      <td>other</td>\n",
       "      <td>reputation</td>\n",
       "      <td>other</td>\n",
       "      <td>1.0</td>\n",
       "      <td>2.0</td>\n",
       "      <td>yes</td>\n",
       "      <td>yes</td>\n",
       "      <td>NaN</td>\n",
       "      <td>yes</td>\n",
       "      <td>no</td>\n",
       "      <td>yes</td>\n",
       "      <td>yes</td>\n",
       "      <td>no</td>\n",
       "      <td>NaN</td>\n",
       "      <td>4.0</td>\n",
       "      <td>3.0</td>\n",
       "      <td>3.0</td>\n",
       "      <td>18.0</td>\n",
       "      <td>50.0</td>\n",
       "    </tr>\n",
       "    <tr>\n",
       "      <th>342</th>\n",
       "      <td>GP</td>\n",
       "      <td>M</td>\n",
       "      <td>18</td>\n",
       "      <td>U</td>\n",
       "      <td>LE3</td>\n",
       "      <td>NaN</td>\n",
       "      <td>3.0</td>\n",
       "      <td>4.0</td>\n",
       "      <td>services</td>\n",
       "      <td>other</td>\n",
       "      <td>home</td>\n",
       "      <td>mother</td>\n",
       "      <td>1.0</td>\n",
       "      <td>2.0</td>\n",
       "      <td>no</td>\n",
       "      <td>no</td>\n",
       "      <td>no</td>\n",
       "      <td>yes</td>\n",
       "      <td>yes</td>\n",
       "      <td>yes</td>\n",
       "      <td>yes</td>\n",
       "      <td>NaN</td>\n",
       "      <td>4.0</td>\n",
       "      <td>3.0</td>\n",
       "      <td>3.0</td>\n",
       "      <td>NaN</td>\n",
       "      <td>11.0</td>\n",
       "      <td>75.0</td>\n",
       "    </tr>\n",
       "  </tbody>\n",
       "</table>\n",
       "</div>"
      ],
      "text/plain": [
       "    school sex  age address famsize Pstatus  Medu  Fedu      Mjob      Fjob  \\\n",
       "126     GP   F   15       U     LE3       A   3.0   4.0     other     other   \n",
       "191     GP   F   17       U     GT3       T   1.0   1.0   at_home  services   \n",
       "221     GP   F   17       U     NaN       T   1.0   1.0   at_home     other   \n",
       "357     MS   F   17       U     LE3     NaN   3.0   2.0  services     other   \n",
       "380     MS   M   18       U     GT3       T   4.0   4.0   teacher   teacher   \n",
       "303     GP   F   17       U     GT3       T   3.0   2.0    health     other   \n",
       "250     GP   M   18       U     GT3       T   3.0   2.0  services     other   \n",
       "381     MS   M   18       R     GT3       T   2.0   1.0     other     other   \n",
       "294     GP   M   18       R     LE3       T   3.0   2.0  services     other   \n",
       "98      GP   F   16       U     GT3       T   4.0   4.0     other     other   \n",
       "180     GP   M   16       U     GT3       T   4.0   NaN   teacher     other   \n",
       "315     GP   F   19       R     GT3       T   2.0   3.0     other     other   \n",
       "228     GP   M   18       U     NaN       T   2.0   1.0   at_home     other   \n",
       "309     GP   F   19       U     LE3       T   1.0   1.0   at_home     other   \n",
       "342     GP   M   18       U     LE3     NaN   3.0   4.0  services     other   \n",
       "\n",
       "         reason guardian  traveltime  studytime schoolsup famsup paid  \\\n",
       "126        home   mother         1.0        2.0       yes     no   no   \n",
       "191      course   mother         1.0        2.0        no     no   no   \n",
       "221  reputation   mother         1.0        3.0        no    yes   no   \n",
       "357  reputation   mother         2.0        2.0        no     no   no   \n",
       "380        home   father         1.0        2.0        no     no  yes   \n",
       "303  reputation   father         1.0        4.0        no    yes  yes   \n",
       "250      course   mother         2.0        1.0        no     no   no   \n",
       "381       other   mother         2.0        1.0        no     no   no   \n",
       "294  reputation   mother         2.0        3.0        no    yes  yes   \n",
       "98   reputation    other         1.0        1.0        no    NaN   no   \n",
       "180        home   mother         1.0        2.0        no    NaN  yes   \n",
       "315  reputation    other         1.0        3.0        no     no   no   \n",
       "228      course   mother         4.0        2.0       yes    yes  yes   \n",
       "309  reputation    other         1.0        2.0       yes    yes  NaN   \n",
       "342        home   mother         1.0        2.0        no     no   no   \n",
       "\n",
       "    activities nursery higher internet romantic  famrel  freetime  goout  \\\n",
       "126        NaN     yes    yes      yes      yes     5.0       3.0    2.0   \n",
       "191        yes     yes    yes      NaN       no     5.0       3.0    3.0   \n",
       "221        yes     yes    yes       no      yes     4.0       3.0    3.0   \n",
       "357         no     yes    yes       no      yes     1.0       2.0    3.0   \n",
       "380        yes      no    yes      yes      NaN     3.0       2.0    4.0   \n",
       "303        yes      no    yes      yes       no     5.0       2.0    2.0   \n",
       "250         no     yes    yes      yes       no     4.0       4.0    5.0   \n",
       "381        yes      no    yes      yes      yes     4.0       4.0    3.0   \n",
       "294        yes     yes    yes      yes       no     5.0       4.0    2.0   \n",
       "98         yes      no    yes      NaN       no     5.0       3.0    4.0   \n",
       "180        yes     yes    yes      yes       no     3.0       4.0    3.0   \n",
       "315         no     yes    yes      yes      yes     4.0       1.0    2.0   \n",
       "228        yes     yes    yes      yes      yes     4.0       3.0    2.0   \n",
       "309        yes      no    yes      yes       no     NaN       4.0    3.0   \n",
       "342        yes     yes    yes      yes      NaN     4.0       3.0    3.0   \n",
       "\n",
       "     health  absences  score  \n",
       "126     1.0       0.0   55.0  \n",
       "191     3.0       0.0   45.0  \n",
       "221     5.0       0.0    0.0  \n",
       "357     5.0       2.0   55.0  \n",
       "380     2.0       4.0   70.0  \n",
       "303     5.0       0.0   90.0  \n",
       "250     5.0       0.0   40.0  \n",
       "381     5.0       5.0   35.0  \n",
       "294     4.0       8.0   70.0  \n",
       "98      1.0       6.0   70.0  \n",
       "180     3.0      10.0   40.0  \n",
       "315     3.0      40.0   55.0  \n",
       "228     3.0      14.0   45.0  \n",
       "309     3.0      18.0   50.0  \n",
       "342     NaN      11.0   75.0  "
      ]
     },
     "execution_count": 1441,
     "metadata": {},
     "output_type": "execute_result"
    }
   ],
   "source": [
    "df.sample(15)"
   ]
  },
  {
   "cell_type": "code",
   "execution_count": 1445,
   "id": "9631f882",
   "metadata": {},
   "outputs": [],
   "source": [
    "# Во-вторых, коэффициент корреляции столбцов Medu и Fedu довольно высокий: 0.6\n",
    "# Поэтому мы можем использовать значения из одного столбца, чтобы заменить \n",
    "# пропущенные значения в другом\n",
    "\n",
    "df['Medu'].loc[df['Medu'].isna()] = df['Fedu']\n",
    "df['Fedu'].loc[df['Fedu'].isna()] = df['Medu']\n",
    "\n",
    "# Также можно было бы объединить эти два столбца, используя, например, метод\n",
    "# главных компонентов (PCA), но я пока не разобралась, как его применять :D "
   ]
  },
  {
   "cell_type": "code",
   "execution_count": null,
   "id": "cb99124f",
   "metadata": {},
   "outputs": [],
   "source": [
    "# Больше высоких корреляций не наблюдается. Следующая по величине корреляция -\n",
    "# между столбцами freetime и goout (0.29), что довольно логично: чем больше у \n",
    "# ученика свободного времени, тем больше времени он/она проводит с друзьями"
   ]
  },
  {
   "cell_type": "code",
   "execution_count": 1448,
   "id": "bf559ff1",
   "metadata": {},
   "outputs": [
    {
     "data": {
      "text/plain": [
       "score         1.000000\n",
       "Medu          0.218892\n",
       "Fedu          0.138523\n",
       "studytime     0.115741\n",
       "famrel        0.055305\n",
       "absences      0.035027\n",
       "freetime      0.017481\n",
       "health       -0.070460\n",
       "traveltime   -0.070559\n",
       "goout        -0.127742\n",
       "age          -0.155726\n",
       "dtype: float64"
      ]
     },
     "execution_count": 1448,
     "metadata": {},
     "output_type": "execute_result"
    }
   ],
   "source": [
    "# Теперь проверим корреляцию со score:\n",
    "\n",
    "df.corrwith(df.score).sort_values(ascending=False)"
   ]
  },
  {
   "cell_type": "markdown",
   "id": "9528f597",
   "metadata": {},
   "source": [
    "<span style='color:darkblue;font-size:4.2mm;background:#DAFCFF'>Выводы:\n",
    "- Столбцы studytime и studytime, granular полностью отрицательно коррелированы, поэтому столбец studytime, granular был удалён.\n",
    "- Коэффициент корреляции столбцов Medu и Fedu довольно высокий: 0.6, поэтому данные из одного столбца были использованы для замены пропусков в другом.\n",
    "- Наиболее коррелированы с целевой переменной следующие столбцы: Medu, Fedu, studytime (положительная корреляция) и age, goout (отрицательная корреляция). \n",
    "    <br>Это говорит о том, что:\n",
    "    <br>чем выше образование у родителей, тем лучше успехи ученика\n",
    "    <br>чем больше времени ученик посвещает учёбе, тем выше его оценка\n",
    "    <br>если же ученик проводит больше времени с друзьями, то его оценка ниже\n",
    "    <br>с возрастом математика даётся труднее\n",
    "- Остальные значения коэффициента корреляции со score меньше 0.1, но пока не будем их удалять, так как при постоении модели могут найтись дополнительные связи.\n",
    "</span>"
   ]
  },
  {
   "cell_type": "markdown",
   "id": "b4ab01da",
   "metadata": {},
   "source": [
    "## Анализ номинативных переменных"
   ]
  },
  {
   "cell_type": "code",
   "execution_count": 1457,
   "id": "bd6d408f",
   "metadata": {
    "scrolled": false
   },
   "outputs": [
    {
     "data": {
      "image/png": "[encoded data removed]",
      "text/plain": [
       "<Figure size 1008x288 with 1 Axes>"
      ]
     },
     "metadata": {},
     "output_type": "display_data"
    },
    {
     "data": {
      "image/png": "[encoded data removed]",
      "text/plain": [
       "<Figure size 1008x288 with 1 Axes>"
      ]
     },
     "metadata": {},
     "output_type": "display_data"
    },
    {
     "data": {
      "image/png": "[encoded data removed]",
      "text/plain": [
       "<Figure size 1008x288 with 1 Axes>"
      ]
     },
     "metadata": {},
     "output_type": "display_data"
    },
    {
     "data": {
      "image/png": "[encoded data removed]",
      "text/plain": [
       "<Figure size 1008x288 with 1 Axes>"
      ]
     },
     "metadata": {},
     "output_type": "display_data"
    },
    {
     "data": {
      "image/png": "[encoded data removed]",
      "text/plain": [
       "<Figure size 1008x288 with 1 Axes>"
      ]
     },
     "metadata": {},
     "output_type": "display_data"
    },
    {
     "data": {
      "image/png": "[encoded data removed]",
      "text/plain": [
       "<Figure size 1008x288 with 1 Axes>"
      ]
     },
     "metadata": {},
     "output_type": "display_data"
    },
    {
     "data": {
      "image/png": "[encoded data removed]",
      "text/plain": [
       "<Figure size 1008x288 with 1 Axes>"
      ]
     },
     "metadata": {},
     "output_type": "display_data"
    },
    {
     "data": {
      "image/png": "[encoded data removed]",
      "text/plain": [
       "<Figure size 1008x288 with 1 Axes>"
      ]
     },
     "metadata": {},
     "output_type": "display_data"
    },
    {
     "data": {
      "image/png": "[encoded data removed]",
      "text/plain": [
       "<Figure size 1008x288 with 1 Axes>"
      ]
     },
     "metadata": {},
     "output_type": "display_data"
    },
    {
     "data": {
      "image/png": "[encoded data removed]",
      "text/plain": [
       "<Figure size 1008x288 with 1 Axes>"
      ]
     },
     "metadata": {},
     "output_type": "display_data"
    },
    {
     "data": {
      "image/png": "[encoded data removed]",
      "text/plain": [
       "<Figure size 1008x288 with 1 Axes>"
      ]
     },
     "metadata": {},
     "output_type": "display_data"
    },
    {
     "data": {
      "image/png": "[encoded data removed]",
      "text/plain": [
       "<Figure size 1008x288 with 1 Axes>"
      ]
     },
     "metadata": {},
     "output_type": "display_data"
    },
    {
     "data": {
      "image/png": "[encoded data removed]",
      "text/plain": [
       "<Figure size 1008x288 with 1 Axes>"
      ]
     },
     "metadata": {},
     "output_type": "display_data"
    },
    {
     "data": {
      "image/png": "[encoded data removed]",
      "text/plain": [
       "<Figure size 1008x288 with 1 Axes>"
      ]
     },
     "metadata": {},
     "output_type": "display_data"
    },
    {
     "data": {
      "image/png": "[encoded data removed]",
      "text/plain": [
       "<Figure size 1008x288 with 1 Axes>"
      ]
     },
     "metadata": {},
     "output_type": "display_data"
    },
    {
     "data": {
      "image/png": "[encoded data removed]",
      "text/plain": [
       "<Figure size 1008x288 with 1 Axes>"
      ]
     },
     "metadata": {},
     "output_type": "display_data"
    },
    {
     "data": {
      "image/png": "[encoded data removed]",
      "text/plain": [
       "<Figure size 1008x288 with 1 Axes>"
      ]
     },
     "metadata": {},
     "output_type": "display_data"
    }
   ],
   "source": [
    "# Посмотрим, различаются ли распределения оценок в зависимости от значения \n",
    "# номинативных переменных. Для этого построим боксплоты:\n",
    "\n",
    "for column in df.columns:\n",
    "    show_boxplot(column)"
   ]
  },
  {
   "cell_type": "code",
   "execution_count": 1480,
   "id": "09d163af",
   "metadata": {},
   "outputs": [],
   "source": [
    "# На первый взгляд на графиках school, address, Mjob, Fjob, schoolsup, higher\n",
    "# и internet наблюдается разница уровней медианы\n",
    "# Но по графикам сложно точно оопределить влияние переменных, так что \n",
    "# воспользуемся статистикой\n",
    "# Проверим, есть ли статистическая разница в распределении оценок по \n",
    "# номинативным признакам, с помощью теста Стьюдента:\n",
    "\n",
    "\n",
    "for column in df.columns:\n",
    "    if df[column].dtypes == object:\n",
    "        get_stat(column)"
   ]
  },
  {
   "cell_type": "code",
   "execution_count": 1489,
   "id": "2ad746be",
   "metadata": {
    "scrolled": true
   },
   "outputs": [
    {
     "name": "stdout",
     "output_type": "stream",
     "text": [
      "Найдены статистически значимые различия для address\n",
      "Найдены статистически значимые различия для Mjob\n",
      "Найдены статистически значимые различия для higher\n",
      "Найдены статистически значимые различия для romantic\n"
     ]
    }
   ],
   "source": [
    "# Этот способ занимает слишком много времени и памяти для такого количества \n",
    "# комбинаций, поэтому воспользуемся методом ANOVA:\n",
    "\n",
    "for column in df.columns:\n",
    "    if df[column].dtypes == object:\n",
    "        get_anova(column)"
   ]
  },
  {
   "cell_type": "markdown",
   "id": "3305a027",
   "metadata": {},
   "source": [
    "<span style='color:darkblue;font-size:4.2mm;background:#DAFCFF'>Выводы:\n",
    "- В результате анализа влияния номинативных переменных были найдены статистически значимые различия для address, Mjob, higher, romantic.\n",
    "- По визуальному анализу боксплотов столбцы school, Fjob, schoolsup и internet также влияют на целевую перменную.\n",
    "- Похоже, что остальные значения не так сильно влияют на score, но пока не будем их удалять, так как при постоении модели могут найтись дополнительные связи.\n",
    "</span>"
   ]
  },
  {
   "cell_type": "markdown",
   "id": "0f76738f",
   "metadata": {},
   "source": [
    "## Вывод"
   ]
  },
  {
   "cell_type": "markdown",
   "id": "1421d846",
   "metadata": {},
   "source": [
    "<span style='color:darkblue;font-size:4.2mm;background:#DAFCFF'>Самые важные параметры, которые предлагается использовать в дальнейшем для построения модели:<br>Medu, Fedu, studytime, age, goout, address, Mjob, higher, romantic, school, Fjob, schoolsup, internet.</span>"
   ]
  }
 ],
 "metadata": {
  "kernelspec": {
   "display_name": "Python 3",
   "language": "python",
   "name": "python3"
  },
  "language_info": {
   "codemirror_mode": {
    "name": "ipython",
    "version": 3
   },
   "file_extension": ".py",
   "mimetype": "text/x-python",
   "name": "python",
   "nbconvert_exporter": "python",
   "pygments_lexer": "ipython3",
   "version": "3.9.5"
  },
  "toc": {
   "base_numbering": "",
   "nav_menu": {},
   "number_sections": false,
   "sideBar": true,
   "skip_h1_title": true,
   "title_cell": "Оглавление",
   "title_sidebar": "Contents",
   "toc_cell": true,
   "toc_position": {},
   "toc_section_display": false,
   "toc_window_display": false
  }
 },
 "nbformat": 4,
 "nbformat_minor": 5
}
